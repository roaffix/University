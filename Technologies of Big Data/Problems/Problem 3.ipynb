{
 "cells": [
  {
   "cell_type": "code",
   "execution_count": 1,
   "metadata": {},
   "outputs": [],
   "source": [
    "from scipy.io import arff\n",
    "import pandas as pd\n",
    "import numpy as np\n",
    "\n",
    "from sklearn.neighbors import KNeighborsClassifier\n",
    "from sklearn.linear_model import LogisticRegression\n",
    "from sklearn import svm\n",
    "from sklearn.model_selection import train_test_split\n",
    "from sklearn import metrics\n",
    "\n",
    "from IPython.display import HTML\n",
    "\n",
    "%matplotlib inline\n",
    "import matplotlib.pyplot as plt\n",
    "import seaborn as sns\n",
    "sns.set(palette = \"Set2\")"
   ]
  },
  {
   "cell_type": "code",
   "execution_count": 2,
   "metadata": {},
   "outputs": [],
   "source": [
    "def update_plot_params():\n",
    "    params = {'legend.fontsize': 'x-large',\n",
    "          'figure.figsize': (10, 8),\n",
    "         'axes.labelsize': 'x-large',\n",
    "         'axes.titlesize':'x-large',\n",
    "         'xtick.labelsize':'x-large',\n",
    "         'ytick.labelsize':'x-large'}\n",
    "    plt.rcParams.update(params)\n",
    "    \n",
    "update_plot_params()"
   ]
  },
  {
   "cell_type": "code",
   "execution_count": 3,
   "metadata": {},
   "outputs": [],
   "source": [
    "def hover(hover_color=\"#ffff99\"):\n",
    "    return dict(selector=\"tr:hover\",\n",
    "                props=[(\"background-color\", \"%s\" % hover_color)])\n",
    "\n",
    "styles = [\n",
    "    hover(),\n",
    "    dict(selector=\"th\", props=[(\"font-size\", \"150%\"),\n",
    "                               (\"text-align\", \"center\")]),\n",
    "    dict(selector=\"caption\", props=[(\"caption-side\", \"bottom\")])\n",
    "]"
   ]
  },
  {
   "cell_type": "markdown",
   "metadata": {},
   "source": [
    "## SPAM FILTERING"
   ]
  },
  {
   "cell_type": "code",
   "execution_count": 4,
   "metadata": {},
   "outputs": [],
   "source": [
    "# Load preprocessed data saved in Lab 1\n",
    "spambase = pd.read_csv('data/spambase_bag_of_words.csv')"
   ]
  },
  {
   "cell_type": "markdown",
   "metadata": {},
   "source": [
    "## Train models"
   ]
  },
  {
   "cell_type": "code",
   "execution_count": 5,
   "metadata": {},
   "outputs": [],
   "source": [
    "Y = spambase.pop('is_spam')\n",
    "X = spambase"
   ]
  },
  {
   "cell_type": "code",
   "execution_count": 6,
   "metadata": {},
   "outputs": [],
   "source": [
    "x_train, x_test, y_train, y_test = train_test_split(X, Y, test_size=0.1, random_state=0)"
   ]
  },
  {
   "cell_type": "code",
   "execution_count": 7,
   "metadata": {},
   "outputs": [
    {
     "name": "stdout",
     "output_type": "stream",
     "text": [
      "Train label:\n",
      "Number of '0' values: 2525\n",
      "Number of '1' values: 1615\n",
      "Test label:\n",
      "Number of '0' values: 263\n",
      "Number of '1' values: 198\n"
     ]
    }
   ],
   "source": [
    "print(\"Train label:\\nNumber of '0' values: {}\".format(y_train.value_counts()[0]))\n",
    "print(\"Number of '1' values: {}\".format(y_train.value_counts()[1]))\n",
    "\n",
    "print(\"Test label:\\nNumber of '0' values: {}\".format(y_test.value_counts()[0]))\n",
    "print(\"Number of '1' values: {}\".format(y_test.value_counts()[1]))"
   ]
  },
  {
   "cell_type": "markdown",
   "metadata": {},
   "source": [
    "### Logistic Regression"
   ]
  },
  {
   "cell_type": "code",
   "execution_count": 8,
   "metadata": {},
   "outputs": [
    {
     "data": {
      "text/plain": [
       "LogisticRegression(C=1.0, class_weight=None, dual=False, fit_intercept=True,\n",
       "          intercept_scaling=1, max_iter=100, multi_class='ovr', n_jobs=1,\n",
       "          penalty='l2', random_state=None, solver='liblinear', tol=0.0001,\n",
       "          verbose=0, warm_start=False)"
      ]
     },
     "execution_count": 8,
     "metadata": {},
     "output_type": "execute_result"
    }
   ],
   "source": [
    "log_regr_model = LogisticRegression()\n",
    "log_regr_model.fit(x_train, y_train)"
   ]
  },
  {
   "cell_type": "code",
   "execution_count": 9,
   "metadata": {},
   "outputs": [],
   "source": [
    "log_regr_pred = log_regr_model.predict(x_test)"
   ]
  },
  {
   "cell_type": "markdown",
   "metadata": {},
   "source": [
    "- What is the percentage of correctly classified instances?"
   ]
  },
  {
   "cell_type": "code",
   "execution_count": 10,
   "metadata": {},
   "outputs": [
    {
     "name": "stdout",
     "output_type": "stream",
     "text": [
      "Score: 0.9327548806941431\n"
     ]
    }
   ],
   "source": [
    "log_regr_score = log_regr_model.score(x_test, y_test) # score = correct predictions / total number of data points\n",
    "print('Score: {}'.format(log_regr_score))"
   ]
  },
  {
   "cell_type": "code",
   "execution_count": 11,
   "metadata": {},
   "outputs": [
    {
     "data": {
      "image/png": "[encoded data removed]",
      "text/plain": [
       "<matplotlib.figure.Figure at 0x7f7978bf1b00>"
      ]
     },
     "metadata": {},
     "output_type": "display_data"
    }
   ],
   "source": [
    "log_regr_conf_matrix = metrics.confusion_matrix(y_test, log_regr_pred)\n",
    "sns.heatmap(log_regr_conf_matrix, annot=True, fmt=\"d\")\n",
    "plt.ylabel('True label', size=20)\n",
    "plt.xlabel('Predicted label', size=20)\n",
    "plt.title('Confusion matrix', size=26)\n",
    "plt.show()"
   ]
  },
  {
   "cell_type": "code",
   "execution_count": 12,
   "metadata": {},
   "outputs": [
    {
     "data": {
      "text/html": [
       "<style  type=\"text/css\" >\n",
       "    #T_c22ccd6c_50a1_11e8_b744_681729138dcd tr:hover {\n",
       "          background-color: #ffff99;\n",
       "    }    #T_c22ccd6c_50a1_11e8_b744_681729138dcd th {\n",
       "          font-size: 150%;\n",
       "          text-align: center;\n",
       "    }    #T_c22ccd6c_50a1_11e8_b744_681729138dcd caption {\n",
       "          caption-side: bottom;\n",
       "    }</style>  \n",
       "<table id=\"T_c22ccd6c_50a1_11e8_b744_681729138dcd\" > \n",
       "<thead>    <tr> \n",
       "        <th class=\"blank level0\" ></th> \n",
       "        <th class=\"col_heading level0 col0\" >Precision</th> \n",
       "        <th class=\"col_heading level0 col1\" >Recall</th> \n",
       "        <th class=\"col_heading level0 col2\" >F1 score</th> \n",
       "        <th class=\"col_heading level0 col3\" >Support</th> \n",
       "    </tr></thead> \n",
       "<tbody>    <tr> \n",
       "        <th id=\"T_c22ccd6c_50a1_11e8_b744_681729138dcdlevel0_row0\" class=\"row_heading level0 row0\" >0</th> \n",
       "        <td id=\"T_c22ccd6c_50a1_11e8_b744_681729138dcdrow0_col0\" class=\"data row0 col0\" >0.923358</td> \n",
       "        <td id=\"T_c22ccd6c_50a1_11e8_b744_681729138dcdrow0_col1\" class=\"data row0 col1\" >0.961977</td> \n",
       "        <td id=\"T_c22ccd6c_50a1_11e8_b744_681729138dcdrow0_col2\" class=\"data row0 col2\" >0.942272</td> \n",
       "        <td id=\"T_c22ccd6c_50a1_11e8_b744_681729138dcdrow0_col3\" class=\"data row0 col3\" >263</td> \n",
       "    </tr>    <tr> \n",
       "        <th id=\"T_c22ccd6c_50a1_11e8_b744_681729138dcdlevel0_row1\" class=\"row_heading level0 row1\" >1</th> \n",
       "        <td id=\"T_c22ccd6c_50a1_11e8_b744_681729138dcdrow1_col0\" class=\"data row1 col0\" >0.946524</td> \n",
       "        <td id=\"T_c22ccd6c_50a1_11e8_b744_681729138dcdrow1_col1\" class=\"data row1 col1\" >0.893939</td> \n",
       "        <td id=\"T_c22ccd6c_50a1_11e8_b744_681729138dcdrow1_col2\" class=\"data row1 col2\" >0.919481</td> \n",
       "        <td id=\"T_c22ccd6c_50a1_11e8_b744_681729138dcdrow1_col3\" class=\"data row1 col3\" >198</td> \n",
       "    </tr></tbody> \n",
       "</table> "
      ],
      "text/plain": [
       "<pandas.io.formats.style.Styler at 0x7f797682c4a8>"
      ]
     },
     "execution_count": 12,
     "metadata": {},
     "output_type": "execute_result"
    }
   ],
   "source": [
    "# http://scikit-learn.org/stable/modules/generated/sklearn.metrics.precision_recall_fscore_support.html\n",
    "\n",
    "log_regr_prfs_score = metrics.precision_recall_fscore_support(y_test, log_regr_pred)\n",
    "log_regr_df = pd.DataFrame(data={'Precision': log_regr_prfs_score[0], 'Recall': log_regr_prfs_score[1],\n",
    "                                 'F1 score': log_regr_prfs_score[2], 'Support': log_regr_prfs_score[3]},\n",
    "                           columns=['Precision', 'Recall', 'F1 score', 'Support'], index=[0, 1])\n",
    "\n",
    "results = (log_regr_df.style.set_table_styles(styles))\n",
    "results"
   ]
  },
  {
   "cell_type": "markdown",
   "metadata": {},
   "source": [
    "- How do the regression coefficients for class 1 relate to the ones for class 0?\n",
    "Can you derive this result from the form of the Logistic Regression model?"
   ]
  },
  {
   "cell_type": "code",
   "execution_count": 13,
   "metadata": {},
   "outputs": [],
   "source": [
    "log_regr_coef = log_regr_model.coef_[0]"
   ]
  },
  {
   "cell_type": "code",
   "execution_count": 14,
   "metadata": {},
   "outputs": [],
   "source": [
    "#np.correlate()"
   ]
  },
  {
   "cell_type": "markdown",
   "metadata": {},
   "source": [
    "- Write down the coefficients for class 1 for the\n",
    "attributes **[word_freq_hp_binarized]** and **\\[char_freq_\\$_binarized\\]**.\n",
    "Generally, we would expect the string **$** to appear in spam, and the\n",
    "string hp to appear in non-spam e-mails, as the data was collected from HP\n",
    "Labs. Do the regression coefficients make sense given that class 1 is\n",
    "spam? <br>\n",
    "_Hint_: Consider the sigmoid function and how it transforms values into\n",
    "a probability between 0 and 1. Since our attributes are boolean, a positive\n",
    "coefficient can only increase the total sum fed through the sigmoid and thus\n",
    "move the output of the sigmoid towards 1. What can happen if we have\n",
    "continuous, real-valued attributes?"
   ]
  },
  {
   "cell_type": "code",
   "execution_count": 15,
   "metadata": {
    "scrolled": true
   },
   "outputs": [
    {
     "name": "stdout",
     "output_type": "stream",
     "text": [
      "Coef equals -2.710106678587926  =>  not spam\n"
     ]
    }
   ],
   "source": [
    "log_regr_word_freq_hp_coef = log_regr_coef[x_train.columns.get_loc('word_freq_hp')]\n",
    "print('Coef equals {}  =>  not spam'.format(log_regr_word_freq_hp_coef))"
   ]
  },
  {
   "cell_type": "code",
   "execution_count": 16,
   "metadata": {},
   "outputs": [
    {
     "name": "stdout",
     "output_type": "stream",
     "text": [
      "Coef equals 1.6930235734119126  =>  spam\n"
     ]
    }
   ],
   "source": [
    "log_regr_char_freq_coef = log_regr_coef[x_train.columns.get_loc('char_freq_$')]\n",
    "print('Coef equals {}  =>  spam'.format(log_regr_char_freq_coef))"
   ]
  },
  {
   "cell_type": "markdown",
   "metadata": {},
   "source": [
    "###  Support Vector Machine"
   ]
  },
  {
   "cell_type": "code",
   "execution_count": 17,
   "metadata": {},
   "outputs": [
    {
     "data": {
      "text/plain": [
       "SVC(C=1.0, cache_size=200, class_weight=None, coef0=0.0,\n",
       "  decision_function_shape='ovr', degree=3, gamma='auto', kernel='linear',\n",
       "  max_iter=-1, probability=False, random_state=None, shrinking=True,\n",
       "  tol=0.001, verbose=False)"
      ]
     },
     "execution_count": 17,
     "metadata": {},
     "output_type": "execute_result"
    }
   ],
   "source": [
    "svm_model = svm.SVC(kernel='linear')\n",
    "svm_model.fit(x_train, y_train)"
   ]
  },
  {
   "cell_type": "code",
   "execution_count": 18,
   "metadata": {},
   "outputs": [],
   "source": [
    "svm_pred = svm_model.predict(x_test)"
   ]
  },
  {
   "cell_type": "markdown",
   "metadata": {},
   "source": [
    "- What is the percent of correctly classified instances? How does it compare to\n",
    "the result from Logistic Regression?"
   ]
  },
  {
   "cell_type": "code",
   "execution_count": 19,
   "metadata": {},
   "outputs": [
    {
     "name": "stdout",
     "output_type": "stream",
     "text": [
      "Score: 0.9327548806941431\n"
     ]
    }
   ],
   "source": [
    "svm_score = svm_model.score(x_test, y_test) # score = correct predictions / total number of data points\n",
    "print('Score: {}'.format(svm_score))"
   ]
  },
  {
   "cell_type": "code",
   "execution_count": 20,
   "metadata": {},
   "outputs": [
    {
     "data": {
      "image/png": "[encoded data removed]",
      "text/plain": [
       "<matplotlib.figure.Figure at 0x7f797ef50710>"
      ]
     },
     "metadata": {},
     "output_type": "display_data"
    }
   ],
   "source": [
    "svm_conf_matrix = metrics.confusion_matrix(y_test, svm_pred)\n",
    "sns.heatmap(svm_conf_matrix, annot=True, fmt=\"d\")\n",
    "plt.ylabel('True label', size=20)\n",
    "plt.xlabel('Predicted label', size=20)\n",
    "plt.title('Confusion matrix', size=26)\n",
    "plt.show()"
   ]
  },
  {
   "cell_type": "code",
   "execution_count": 21,
   "metadata": {},
   "outputs": [
    {
     "data": {
      "text/html": [
       "<style  type=\"text/css\" >\n",
       "    #T_c38ee0fa_50a1_11e8_b744_681729138dcd tr:hover {\n",
       "          background-color: #ffff99;\n",
       "    }    #T_c38ee0fa_50a1_11e8_b744_681729138dcd th {\n",
       "          font-size: 150%;\n",
       "          text-align: center;\n",
       "    }    #T_c38ee0fa_50a1_11e8_b744_681729138dcd caption {\n",
       "          caption-side: bottom;\n",
       "    }</style>  \n",
       "<table id=\"T_c38ee0fa_50a1_11e8_b744_681729138dcd\" > \n",
       "<thead>    <tr> \n",
       "        <th class=\"blank level0\" ></th> \n",
       "        <th class=\"col_heading level0 col0\" >Precision</th> \n",
       "        <th class=\"col_heading level0 col1\" >Recall</th> \n",
       "        <th class=\"col_heading level0 col2\" >F1 score</th> \n",
       "        <th class=\"col_heading level0 col3\" >Support</th> \n",
       "    </tr></thead> \n",
       "<tbody>    <tr> \n",
       "        <th id=\"T_c38ee0fa_50a1_11e8_b744_681729138dcdlevel0_row0\" class=\"row_heading level0 row0\" >0</th> \n",
       "        <td id=\"T_c38ee0fa_50a1_11e8_b744_681729138dcdrow0_col0\" class=\"data row0 col0\" >0.923358</td> \n",
       "        <td id=\"T_c38ee0fa_50a1_11e8_b744_681729138dcdrow0_col1\" class=\"data row0 col1\" >0.961977</td> \n",
       "        <td id=\"T_c38ee0fa_50a1_11e8_b744_681729138dcdrow0_col2\" class=\"data row0 col2\" >0.942272</td> \n",
       "        <td id=\"T_c38ee0fa_50a1_11e8_b744_681729138dcdrow0_col3\" class=\"data row0 col3\" >263</td> \n",
       "    </tr>    <tr> \n",
       "        <th id=\"T_c38ee0fa_50a1_11e8_b744_681729138dcdlevel0_row1\" class=\"row_heading level0 row1\" >1</th> \n",
       "        <td id=\"T_c38ee0fa_50a1_11e8_b744_681729138dcdrow1_col0\" class=\"data row1 col0\" >0.946524</td> \n",
       "        <td id=\"T_c38ee0fa_50a1_11e8_b744_681729138dcdrow1_col1\" class=\"data row1 col1\" >0.893939</td> \n",
       "        <td id=\"T_c38ee0fa_50a1_11e8_b744_681729138dcdrow1_col2\" class=\"data row1 col2\" >0.919481</td> \n",
       "        <td id=\"T_c38ee0fa_50a1_11e8_b744_681729138dcdrow1_col3\" class=\"data row1 col3\" >198</td> \n",
       "    </tr></tbody> \n",
       "</table> "
      ],
      "text/plain": [
       "<pandas.io.formats.style.Styler at 0x7f79767f0320>"
      ]
     },
     "execution_count": 21,
     "metadata": {},
     "output_type": "execute_result"
    }
   ],
   "source": [
    "# http://scikit-learn.org/stable/modules/generated/sklearn.metrics.precision_recall_fscore_support.html\n",
    "\n",
    "svm_prfs_score = metrics.precision_recall_fscore_support(y_test, svm_pred)\n",
    "svm_df = pd.DataFrame(data={'Precision': svm_prfs_score[0], 'Recall': svm_prfs_score[1], \n",
    "                            'F1 score': svm_prfs_score[2], 'Support': svm_prfs_score[3]},\n",
    "                      columns=['Precision', 'Recall', 'F1 score', 'Support'], index=[0, 1])\n",
    "\n",
    "results = (svm_df.style.set_table_styles(styles))\n",
    "results"
   ]
  },
  {
   "cell_type": "markdown",
   "metadata": {},
   "source": [
    "- What are the coefficients for the\n",
    "attributes **[word_freq_hp_binarized]** and **[char_freq_$_binarized]**?\n",
    "Compare these to the ones you found with Logistic Regression."
   ]
  },
  {
   "cell_type": "code",
   "execution_count": 22,
   "metadata": {},
   "outputs": [],
   "source": [
    "svm_coef = svm_model.coef_[0]"
   ]
  },
  {
   "cell_type": "code",
   "execution_count": 23,
   "metadata": {},
   "outputs": [
    {
     "name": "stdout",
     "output_type": "stream",
     "text": [
      "Coef equals -2.104702653506182  =>  not spam\n"
     ]
    }
   ],
   "source": [
    "svm_word_freq_hp_coef = svm_coef[x_train.columns.get_loc('word_freq_hp')]\n",
    "print('Coef equals {}  =>  not spam'.format(svm_word_freq_hp_coef))"
   ]
  },
  {
   "cell_type": "code",
   "execution_count": 24,
   "metadata": {},
   "outputs": [
    {
     "name": "stdout",
     "output_type": "stream",
     "text": [
      "Coef equals 1.2210970567459125  =>  spam\n"
     ]
    }
   ],
   "source": [
    "svm_char_freq_coef = svm_coef[x_train.columns.get_loc('char_freq_$')]\n",
    "print('Coef equals {}  =>  spam'.format(svm_char_freq_coef))"
   ]
  },
  {
   "cell_type": "markdown",
   "metadata": {},
   "source": [
    "### Comparison "
   ]
  },
  {
   "cell_type": "code",
   "execution_count": 25,
   "metadata": {},
   "outputs": [],
   "source": [
    "log_regr_df = log_regr_df.assign(Model='Logistic Regression')\n",
    "svm_df = svm_df.assign(Model='Support Vector Machine')"
   ]
  },
  {
   "cell_type": "code",
   "execution_count": 26,
   "metadata": {},
   "outputs": [],
   "source": [
    "df = log_regr_df.append(svm_df)\n",
    "df.index.name = 'Class'"
   ]
  },
  {
   "cell_type": "code",
   "execution_count": 27,
   "metadata": {},
   "outputs": [],
   "source": [
    "comp_table = pd.pivot_table(df, index=['Model', 'Class'])\n",
    "comp_table = comp_table.drop(['Support'], axis=1)\n",
    "comp_table.index = comp_table.index.set_names([None, 'Class'])"
   ]
  },
  {
   "cell_type": "code",
   "execution_count": 28,
   "metadata": {},
   "outputs": [],
   "source": [
    "coef_compar = pd.DataFrame(data={'Logistic Regression': [log_regr_word_freq_hp_coef, log_regr_char_freq_coef],\n",
    "                                 'Support Vector Machine': [svm_word_freq_hp_coef, svm_char_freq_coef]}, index=['word_freq_hp', 'char_freq_$'])"
   ]
  },
  {
   "cell_type": "code",
   "execution_count": 29,
   "metadata": {},
   "outputs": [],
   "source": [
    "metrics_table = (comp_table.T.style.set_table_styles(styles))\n",
    "coef_table = (coef_compar.T.style.set_table_styles(styles))"
   ]
  },
  {
   "cell_type": "code",
   "execution_count": 30,
   "metadata": {},
   "outputs": [
    {
     "data": {
      "text/html": [
       "<style  type=\"text/css\" >\n",
       "    #T_c38ee0fb_50a1_11e8_b744_681729138dcd tr:hover {\n",
       "          background-color: #ffff99;\n",
       "    }    #T_c38ee0fb_50a1_11e8_b744_681729138dcd th {\n",
       "          font-size: 150%;\n",
       "          text-align: center;\n",
       "    }    #T_c38ee0fb_50a1_11e8_b744_681729138dcd caption {\n",
       "          caption-side: bottom;\n",
       "    }</style>  \n",
       "<table id=\"T_c38ee0fb_50a1_11e8_b744_681729138dcd\" > \n",
       "<thead>    <tr> \n",
       "        <th class=\"blank level0\" ></th> \n",
       "        <th class=\"col_heading level0 col0\" colspan=2>Logistic Regression</th> \n",
       "        <th class=\"col_heading level0 col2\" colspan=2>Support Vector Machine</th> \n",
       "    </tr>    <tr> \n",
       "        <th class=\"index_name level1\" >Class</th> \n",
       "        <th class=\"col_heading level1 col0\" >0</th> \n",
       "        <th class=\"col_heading level1 col1\" >1</th> \n",
       "        <th class=\"col_heading level1 col2\" >0</th> \n",
       "        <th class=\"col_heading level1 col3\" >1</th> \n",
       "    </tr></thead> \n",
       "<tbody>    <tr> \n",
       "        <th id=\"T_c38ee0fb_50a1_11e8_b744_681729138dcdlevel0_row0\" class=\"row_heading level0 row0\" >F1 score</th> \n",
       "        <td id=\"T_c38ee0fb_50a1_11e8_b744_681729138dcdrow0_col0\" class=\"data row0 col0\" >0.942272</td> \n",
       "        <td id=\"T_c38ee0fb_50a1_11e8_b744_681729138dcdrow0_col1\" class=\"data row0 col1\" >0.919481</td> \n",
       "        <td id=\"T_c38ee0fb_50a1_11e8_b744_681729138dcdrow0_col2\" class=\"data row0 col2\" >0.942272</td> \n",
       "        <td id=\"T_c38ee0fb_50a1_11e8_b744_681729138dcdrow0_col3\" class=\"data row0 col3\" >0.919481</td> \n",
       "    </tr>    <tr> \n",
       "        <th id=\"T_c38ee0fb_50a1_11e8_b744_681729138dcdlevel0_row1\" class=\"row_heading level0 row1\" >Precision</th> \n",
       "        <td id=\"T_c38ee0fb_50a1_11e8_b744_681729138dcdrow1_col0\" class=\"data row1 col0\" >0.923358</td> \n",
       "        <td id=\"T_c38ee0fb_50a1_11e8_b744_681729138dcdrow1_col1\" class=\"data row1 col1\" >0.946524</td> \n",
       "        <td id=\"T_c38ee0fb_50a1_11e8_b744_681729138dcdrow1_col2\" class=\"data row1 col2\" >0.923358</td> \n",
       "        <td id=\"T_c38ee0fb_50a1_11e8_b744_681729138dcdrow1_col3\" class=\"data row1 col3\" >0.946524</td> \n",
       "    </tr>    <tr> \n",
       "        <th id=\"T_c38ee0fb_50a1_11e8_b744_681729138dcdlevel0_row2\" class=\"row_heading level0 row2\" >Recall</th> \n",
       "        <td id=\"T_c38ee0fb_50a1_11e8_b744_681729138dcdrow2_col0\" class=\"data row2 col0\" >0.961977</td> \n",
       "        <td id=\"T_c38ee0fb_50a1_11e8_b744_681729138dcdrow2_col1\" class=\"data row2 col1\" >0.893939</td> \n",
       "        <td id=\"T_c38ee0fb_50a1_11e8_b744_681729138dcdrow2_col2\" class=\"data row2 col2\" >0.961977</td> \n",
       "        <td id=\"T_c38ee0fb_50a1_11e8_b744_681729138dcdrow2_col3\" class=\"data row2 col3\" >0.893939</td> \n",
       "    </tr></tbody> \n",
       "</table> "
      ],
      "text/plain": [
       "<pandas.io.formats.style.Styler at 0x7f7978bf16a0>"
      ]
     },
     "metadata": {},
     "output_type": "display_data"
    },
    {
     "data": {
      "text/html": [
       "<style  type=\"text/css\" >\n",
       "    #T_c38ee0fc_50a1_11e8_b744_681729138dcd tr:hover {\n",
       "          background-color: #ffff99;\n",
       "    }    #T_c38ee0fc_50a1_11e8_b744_681729138dcd th {\n",
       "          font-size: 150%;\n",
       "          text-align: center;\n",
       "    }    #T_c38ee0fc_50a1_11e8_b744_681729138dcd caption {\n",
       "          caption-side: bottom;\n",
       "    }</style>  \n",
       "<table id=\"T_c38ee0fc_50a1_11e8_b744_681729138dcd\" > \n",
       "<thead>    <tr> \n",
       "        <th class=\"blank level0\" ></th> \n",
       "        <th class=\"col_heading level0 col0\" >word_freq_hp</th> \n",
       "        <th class=\"col_heading level0 col1\" >char_freq_$</th> \n",
       "    </tr></thead> \n",
       "<tbody>    <tr> \n",
       "        <th id=\"T_c38ee0fc_50a1_11e8_b744_681729138dcdlevel0_row0\" class=\"row_heading level0 row0\" >Logistic Regression</th> \n",
       "        <td id=\"T_c38ee0fc_50a1_11e8_b744_681729138dcdrow0_col0\" class=\"data row0 col0\" >-2.71011</td> \n",
       "        <td id=\"T_c38ee0fc_50a1_11e8_b744_681729138dcdrow0_col1\" class=\"data row0 col1\" >1.69302</td> \n",
       "    </tr>    <tr> \n",
       "        <th id=\"T_c38ee0fc_50a1_11e8_b744_681729138dcdlevel0_row1\" class=\"row_heading level0 row1\" >Support Vector Machine</th> \n",
       "        <td id=\"T_c38ee0fc_50a1_11e8_b744_681729138dcdrow1_col0\" class=\"data row1 col0\" >-2.1047</td> \n",
       "        <td id=\"T_c38ee0fc_50a1_11e8_b744_681729138dcdrow1_col1\" class=\"data row1 col1\" >1.2211</td> \n",
       "    </tr></tbody> \n",
       "</table> "
      ],
      "text/plain": [
       "<pandas.io.formats.style.Styler at 0x7f79767f0710>"
      ]
     },
     "metadata": {},
     "output_type": "display_data"
    }
   ],
   "source": [
    "display(metrics_table)\n",
    "display(coef_table)"
   ]
  },
  {
   "cell_type": "markdown",
   "metadata": {},
   "source": [
    "- How does a linear SVM relate to Logistic Regression? <br>\n",
    "_Hint_: Consider the\n",
    "classification boundary learnt in each model."
   ]
  },
  {
   "cell_type": "markdown",
   "metadata": {},
   "source": [
    "Because of it is really hard to visualize data in dimensions greater than 3, we need to train the model on two features (only for visualization purposes)."
   ]
  },
  {
   "cell_type": "code",
   "execution_count": 31,
   "metadata": {},
   "outputs": [
    {
     "data": {
      "image/png": "[encoded data removed]",
      "text/plain": [
       "<matplotlib.figure.Figure at 0x7f797647b828>"
      ]
     },
     "metadata": {},
     "output_type": "display_data"
    }
   ],
   "source": [
    "from itertools import product\n",
    "\n",
    "X = np.array(x_train[['word_freq_hp', 'char_freq_$']])\n",
    "y = np.array(y_train)\n",
    "\n",
    "# Training classifiers\n",
    "clf1 = LogisticRegression()\n",
    "clf2 = svm.SVC(kernel='linear', probability=True)\n",
    "\n",
    "clf1.fit(X, y)\n",
    "clf2.fit(X, y)\n",
    "\n",
    "# Plotting decision regions\n",
    "x_min, x_max = X[:, 0].min() - 1, X[:, 0].max() + 1\n",
    "y_min, y_max = X[:, 1].min() - 1, X[:, 1].max() + 1\n",
    "xx, yy = np.meshgrid(np.arange(x_min, x_max, 0.01),\n",
    "                     np.arange(y_min, y_max, 0.01))\n",
    "\n",
    "f, axarr = plt.subplots(1, 2, sharex='col', sharey='row')\n",
    "\n",
    "noise1 = np.random.normal(0, 0.05, X.shape[0])\n",
    "noise2 = np.random.normal(0, 0.05, X.shape[0])\n",
    "\n",
    "for idx, clf, tt in zip(product([0, 1]), [clf1, clf2], ['LogisticRegression', 'SVM with linear kernel']):\n",
    "    Z = clf.predict(np.c_[xx.ravel(), yy.ravel()])\n",
    "    Z = Z.reshape(xx.shape)\n",
    "    axarr[idx[0]].contourf(xx, yy, Z, alpha=0.4)\n",
    "    axarr[idx[0]].scatter(X[:, 0] + noise1, X[:, 1] + noise2, c=y, s=50, edgecolor='k')\n",
    "    axarr[idx[0]].set_title(tt)\n",
    "\n",
    "plt.show()"
   ]
  },
  {
   "cell_type": "markdown",
   "metadata": {},
   "source": [
    "##  PERFORMANCE ASSESSMENT #1"
   ]
  },
  {
   "cell_type": "code",
   "execution_count": 32,
   "metadata": {},
   "outputs": [],
   "source": [
    "train, _ = arff.loadarff('data/raw/splice_train.arff.txt')\n",
    "test, _ = arff.loadarff('data/raw/splice_test.arff.txt')\n",
    "\n",
    "train = pd.DataFrame(train)\n",
    "test = pd.DataFrame(test)"
   ]
  },
  {
   "cell_type": "code",
   "execution_count": 33,
   "metadata": {},
   "outputs": [],
   "source": [
    "train = [train[col].str.decode('utf-8') for col in train.columns]\n",
    "train = pd.DataFrame(train).T\n",
    "\n",
    "test = [test[col].str.decode('utf-8') for col in test.columns]\n",
    "test = pd.DataFrame(test).T"
   ]
  },
  {
   "cell_type": "code",
   "execution_count": 34,
   "metadata": {},
   "outputs": [],
   "source": [
    "data = train.append(test)\n",
    "data = data.apply(lambda x: x.astype('category'))\n",
    "data = data.apply(lambda x: x.cat.codes)"
   ]
  },
  {
   "cell_type": "code",
   "execution_count": 35,
   "metadata": {},
   "outputs": [],
   "source": [
    "temp_train = data.iloc[:train.shape[0]]\n",
    "temp_test = data.iloc[train.shape[0]:]"
   ]
  },
  {
   "cell_type": "code",
   "execution_count": 36,
   "metadata": {},
   "outputs": [],
   "source": [
    "# Save to files for Lab 4\n",
    "temp_train.to_csv('data/preprocessed/splice_train.csv', index=False)\n",
    "temp_test.to_csv('data/preprocessed/splice_test.csv', index=False)"
   ]
  },
  {
   "cell_type": "code",
   "execution_count": 37,
   "metadata": {},
   "outputs": [],
   "source": [
    "y_train = temp_train.pop('class')\n",
    "x_train = temp_train\n",
    "y_test = temp_test.pop('class')\n",
    "x_test = temp_test"
   ]
  },
  {
   "cell_type": "markdown",
   "metadata": {},
   "source": [
    "###  K-nearest neighbour"
   ]
  },
  {
   "cell_type": "code",
   "execution_count": 38,
   "metadata": {},
   "outputs": [],
   "source": [
    "# https://kevinzakka.github.io/2016/07/13/k-nearest-neighbor/"
   ]
  },
  {
   "cell_type": "code",
   "execution_count": 39,
   "metadata": {},
   "outputs": [
    {
     "data": {
      "text/plain": [
       "KNeighborsClassifier(algorithm='auto', leaf_size=30, metric='minkowski',\n",
       "           metric_params=None, n_jobs=1, n_neighbors=1, p=2,\n",
       "           weights='uniform')"
      ]
     },
     "execution_count": 39,
     "metadata": {},
     "output_type": "execute_result"
    }
   ],
   "source": [
    "knn_model = KNeighborsClassifier(n_neighbors=1)\n",
    "knn_model.fit(x_train, y_train) "
   ]
  },
  {
   "cell_type": "markdown",
   "metadata": {},
   "source": [
    "- What is the classification accuracy?"
   ]
  },
  {
   "cell_type": "markdown",
   "metadata": {},
   "source": [
    "On train set:"
   ]
  },
  {
   "cell_type": "code",
   "execution_count": 40,
   "metadata": {},
   "outputs": [],
   "source": [
    "knn_pred = knn_model.predict(x_train)"
   ]
  },
  {
   "cell_type": "code",
   "execution_count": 41,
   "metadata": {},
   "outputs": [
    {
     "data": {
      "text/plain": [
       "array([0, 1, 2], dtype=int8)"
      ]
     },
     "execution_count": 41,
     "metadata": {},
     "output_type": "execute_result"
    }
   ],
   "source": [
    "np.unique(y_train)"
   ]
  },
  {
   "cell_type": "code",
   "execution_count": 42,
   "metadata": {},
   "outputs": [
    {
     "name": "stdout",
     "output_type": "stream",
     "text": [
      "Score: 0.9996592844974447\n"
     ]
    }
   ],
   "source": [
    "knn_score = knn_model.score(x_train, y_train) # score = correct predictions / total number of data points\n",
    "print('Score: {}'.format(knn_score))"
   ]
  },
  {
   "cell_type": "code",
   "execution_count": 43,
   "metadata": {},
   "outputs": [
    {
     "data": {
      "image/png": "[encoded data removed]",
      "text/plain": [
       "<matplotlib.figure.Figure at 0x7f79763e3240>"
      ]
     },
     "metadata": {},
     "output_type": "display_data"
    }
   ],
   "source": [
    "knn_conf_matrix = metrics.confusion_matrix(y_train, knn_pred)\n",
    "sns.heatmap(knn_conf_matrix, annot=True, fmt=\"d\")\n",
    "plt.ylabel('True label', size=20)\n",
    "plt.xlabel('Predicted label', size=20)\n",
    "plt.title('Confusion matrix', size=26)\n",
    "plt.show()"
   ]
  },
  {
   "cell_type": "code",
   "execution_count": 44,
   "metadata": {},
   "outputs": [
    {
     "data": {
      "text/html": [
       "<style  type=\"text/css\" >\n",
       "    #T_c77ee8d6_50a1_11e8_b744_681729138dcd tr:hover {\n",
       "          background-color: #ffff99;\n",
       "    }    #T_c77ee8d6_50a1_11e8_b744_681729138dcd th {\n",
       "          font-size: 150%;\n",
       "          text-align: center;\n",
       "    }    #T_c77ee8d6_50a1_11e8_b744_681729138dcd caption {\n",
       "          caption-side: bottom;\n",
       "    }</style>  \n",
       "<table id=\"T_c77ee8d6_50a1_11e8_b744_681729138dcd\" > \n",
       "<thead>    <tr> \n",
       "        <th class=\"blank level0\" ></th> \n",
       "        <th class=\"col_heading level0 col0\" >Precision</th> \n",
       "        <th class=\"col_heading level0 col1\" >Recall</th> \n",
       "        <th class=\"col_heading level0 col2\" >F1 score</th> \n",
       "        <th class=\"col_heading level0 col3\" >Support</th> \n",
       "    </tr></thead> \n",
       "<tbody>    <tr> \n",
       "        <th id=\"T_c77ee8d6_50a1_11e8_b744_681729138dcdlevel0_row0\" class=\"row_heading level0 row0\" >0</th> \n",
       "        <td id=\"T_c77ee8d6_50a1_11e8_b744_681729138dcdrow0_col0\" class=\"data row0 col0\" >1</td> \n",
       "        <td id=\"T_c77ee8d6_50a1_11e8_b744_681729138dcdrow0_col1\" class=\"data row0 col1\" >1</td> \n",
       "        <td id=\"T_c77ee8d6_50a1_11e8_b744_681729138dcdrow0_col2\" class=\"data row0 col2\" >1</td> \n",
       "        <td id=\"T_c77ee8d6_50a1_11e8_b744_681729138dcdrow0_col3\" class=\"data row0 col3\" >715</td> \n",
       "    </tr>    <tr> \n",
       "        <th id=\"T_c77ee8d6_50a1_11e8_b744_681729138dcdlevel0_row1\" class=\"row_heading level0 row1\" >1</th> \n",
       "        <td id=\"T_c77ee8d6_50a1_11e8_b744_681729138dcdrow1_col0\" class=\"data row1 col0\" >0.998601</td> \n",
       "        <td id=\"T_c77ee8d6_50a1_11e8_b744_681729138dcdrow1_col1\" class=\"data row1 col1\" >1</td> \n",
       "        <td id=\"T_c77ee8d6_50a1_11e8_b744_681729138dcdrow1_col2\" class=\"data row1 col2\" >0.9993</td> \n",
       "        <td id=\"T_c77ee8d6_50a1_11e8_b744_681729138dcdrow1_col3\" class=\"data row1 col3\" >714</td> \n",
       "    </tr>    <tr> \n",
       "        <th id=\"T_c77ee8d6_50a1_11e8_b744_681729138dcdlevel0_row2\" class=\"row_heading level0 row2\" >2</th> \n",
       "        <td id=\"T_c77ee8d6_50a1_11e8_b744_681729138dcdrow2_col0\" class=\"data row2 col0\" >1</td> \n",
       "        <td id=\"T_c77ee8d6_50a1_11e8_b744_681729138dcdrow2_col1\" class=\"data row2 col1\" >0.999336</td> \n",
       "        <td id=\"T_c77ee8d6_50a1_11e8_b744_681729138dcdrow2_col2\" class=\"data row2 col2\" >0.999668</td> \n",
       "        <td id=\"T_c77ee8d6_50a1_11e8_b744_681729138dcdrow2_col3\" class=\"data row2 col3\" >1506</td> \n",
       "    </tr></tbody> \n",
       "</table> "
      ],
      "text/plain": [
       "<pandas.io.formats.style.Styler at 0x7f79764b42e8>"
      ]
     },
     "execution_count": 44,
     "metadata": {},
     "output_type": "execute_result"
    }
   ],
   "source": [
    "knn_prfs_score = metrics.precision_recall_fscore_support(y_train, knn_pred)\n",
    "knn_df = pd.DataFrame(data={'Precision': knn_prfs_score[0], 'Recall': knn_prfs_score[1], \n",
    "                            'F1 score': knn_prfs_score[2], 'Support': knn_prfs_score[3]},\n",
    "                      columns=['Precision', 'Recall', 'F1 score', 'Support'], index=[0, 1, 2])\n",
    "\n",
    "results = (knn_df.style.set_table_styles(styles))\n",
    "results"
   ]
  },
  {
   "cell_type": "markdown",
   "metadata": {},
   "source": [
    "On test set:"
   ]
  },
  {
   "cell_type": "code",
   "execution_count": 45,
   "metadata": {},
   "outputs": [],
   "source": [
    "knn_pred = knn_model.predict(x_test)"
   ]
  },
  {
   "cell_type": "code",
   "execution_count": 46,
   "metadata": {},
   "outputs": [
    {
     "name": "stdout",
     "output_type": "stream",
     "text": [
      "Score: 0.611764705882353\n"
     ]
    }
   ],
   "source": [
    "knn_score = knn_model.score(x_test, y_test) # score = correct predictions / total number of data points\n",
    "print('Score: {}'.format(knn_score))"
   ]
  },
  {
   "cell_type": "code",
   "execution_count": 47,
   "metadata": {},
   "outputs": [
    {
     "data": {
      "image/png": "[encoded data removed]",
      "text/plain": [
       "<matplotlib.figure.Figure at 0x7f797639db38>"
      ]
     },
     "metadata": {},
     "output_type": "display_data"
    }
   ],
   "source": [
    "knn_conf_matrix = metrics.confusion_matrix(y_test, knn_pred)\n",
    "sns.heatmap(knn_conf_matrix, annot=True, fmt=\"d\")\n",
    "plt.ylabel('True label', size=20)\n",
    "plt.xlabel('Predicted label', size=20)\n",
    "plt.title('Confusion matrix', size=26)\n",
    "plt.show()"
   ]
  },
  {
   "cell_type": "code",
   "execution_count": 48,
   "metadata": {},
   "outputs": [
    {
     "data": {
      "text/html": [
       "<style  type=\"text/css\" >\n",
       "    #T_c77ee8d7_50a1_11e8_b744_681729138dcd tr:hover {\n",
       "          background-color: #ffff99;\n",
       "    }    #T_c77ee8d7_50a1_11e8_b744_681729138dcd th {\n",
       "          font-size: 150%;\n",
       "          text-align: center;\n",
       "    }    #T_c77ee8d7_50a1_11e8_b744_681729138dcd caption {\n",
       "          caption-side: bottom;\n",
       "    }</style>  \n",
       "<table id=\"T_c77ee8d7_50a1_11e8_b744_681729138dcd\" > \n",
       "<thead>    <tr> \n",
       "        <th class=\"blank level0\" ></th> \n",
       "        <th class=\"col_heading level0 col0\" >Precision</th> \n",
       "        <th class=\"col_heading level0 col1\" >Recall</th> \n",
       "        <th class=\"col_heading level0 col2\" >F1 score</th> \n",
       "        <th class=\"col_heading level0 col3\" >Support</th> \n",
       "    </tr></thead> \n",
       "<tbody>    <tr> \n",
       "        <th id=\"T_c77ee8d7_50a1_11e8_b744_681729138dcdlevel0_row0\" class=\"row_heading level0 row0\" >0</th> \n",
       "        <td id=\"T_c77ee8d7_50a1_11e8_b744_681729138dcdrow0_col0\" class=\"data row0 col0\" >0.428571</td> \n",
       "        <td id=\"T_c77ee8d7_50a1_11e8_b744_681729138dcdrow0_col1\" class=\"data row0 col1\" >0.75</td> \n",
       "        <td id=\"T_c77ee8d7_50a1_11e8_b744_681729138dcdrow0_col2\" class=\"data row0 col2\" >0.545455</td> \n",
       "        <td id=\"T_c77ee8d7_50a1_11e8_b744_681729138dcdrow0_col3\" class=\"data row0 col3\" >52</td> \n",
       "    </tr>    <tr> \n",
       "        <th id=\"T_c77ee8d7_50a1_11e8_b744_681729138dcdlevel0_row1\" class=\"row_heading level0 row1\" >1</th> \n",
       "        <td id=\"T_c77ee8d7_50a1_11e8_b744_681729138dcdrow1_col0\" class=\"data row1 col0\" >0.584906</td> \n",
       "        <td id=\"T_c77ee8d7_50a1_11e8_b744_681729138dcdrow1_col1\" class=\"data row1 col1\" >0.574074</td> \n",
       "        <td id=\"T_c77ee8d7_50a1_11e8_b744_681729138dcdrow1_col2\" class=\"data row1 col2\" >0.579439</td> \n",
       "        <td id=\"T_c77ee8d7_50a1_11e8_b744_681729138dcdrow1_col3\" class=\"data row1 col3\" >54</td> \n",
       "    </tr>    <tr> \n",
       "        <th id=\"T_c77ee8d7_50a1_11e8_b744_681729138dcdlevel0_row2\" class=\"row_heading level0 row2\" >2</th> \n",
       "        <td id=\"T_c77ee8d7_50a1_11e8_b744_681729138dcdrow2_col0\" class=\"data row2 col0\" >0.774775</td> \n",
       "        <td id=\"T_c77ee8d7_50a1_11e8_b744_681729138dcdrow2_col1\" class=\"data row2 col1\" >0.577181</td> \n",
       "        <td id=\"T_c77ee8d7_50a1_11e8_b744_681729138dcdrow2_col2\" class=\"data row2 col2\" >0.661538</td> \n",
       "        <td id=\"T_c77ee8d7_50a1_11e8_b744_681729138dcdrow2_col3\" class=\"data row2 col3\" >149</td> \n",
       "    </tr></tbody> \n",
       "</table> "
      ],
      "text/plain": [
       "<pandas.io.formats.style.Styler at 0x7f79764f8da0>"
      ]
     },
     "execution_count": 48,
     "metadata": {},
     "output_type": "execute_result"
    }
   ],
   "source": [
    "knn_prfs_score = metrics.precision_recall_fscore_support(y_test, knn_pred)\n",
    "knn_df = pd.DataFrame(data={'Precision': knn_prfs_score[0], 'Recall': knn_prfs_score[1], \n",
    "                            'F1 score': knn_prfs_score[2], 'Support': knn_prfs_score[3]},\n",
    "                      columns=['Precision', 'Recall', 'F1 score', 'Support'], index=[0, 1, 2])\n",
    "\n",
    "results = (knn_df.style.set_table_styles(styles))\n",
    "results"
   ]
  },
  {
   "cell_type": "markdown",
   "metadata": {},
   "source": [
    "- What would be the accuracy of the classifier, if all points were labelled as N? <br>\n",
    "_Hint_: View the distribution of the class attribute of the test data. You can do\n",
    "this by loading the test data on the Preprocess tab, and selecting\n",
    "the class attribute in the Attributes panel."
   ]
  },
  {
   "cell_type": "code",
   "execution_count": 49,
   "metadata": {},
   "outputs": [
    {
     "data": {
      "image/png": "[encoded data removed]",
      "text/plain": [
       "<matplotlib.figure.Figure at 0x7f79763b3320>"
      ]
     },
     "metadata": {},
     "output_type": "display_data"
    }
   ],
   "source": [
    "sns.countplot(x='class', data=test, palette=\"Greens_d\");"
   ]
  },
  {
   "cell_type": "markdown",
   "metadata": {},
   "source": [
    "Train KNN for 5, 10, 100, 1000 and 10000 neighbours."
   ]
  },
  {
   "cell_type": "code",
   "execution_count": 50,
   "metadata": {},
   "outputs": [
    {
     "name": "stdout",
     "output_type": "stream",
     "text": [
      "Neighbours amount: 5   Score: 0.6431372549019608\n"
     ]
    },
    {
     "data": {
      "text/html": [
       "<style  type=\"text/css\" >\n",
       "    #T_c77ee8d8_50a1_11e8_b744_681729138dcd tr:hover {\n",
       "          background-color: #ffff99;\n",
       "    }    #T_c77ee8d8_50a1_11e8_b744_681729138dcd th {\n",
       "          font-size: 150%;\n",
       "          text-align: center;\n",
       "    }    #T_c77ee8d8_50a1_11e8_b744_681729138dcd caption {\n",
       "          caption-side: bottom;\n",
       "    }</style>  \n",
       "<table id=\"T_c77ee8d8_50a1_11e8_b744_681729138dcd\" > \n",
       "<thead>    <tr> \n",
       "        <th class=\"blank level0\" ></th> \n",
       "        <th class=\"col_heading level0 col0\" >Precision</th> \n",
       "        <th class=\"col_heading level0 col1\" >Recall</th> \n",
       "        <th class=\"col_heading level0 col2\" >F1 score</th> \n",
       "        <th class=\"col_heading level0 col3\" >Support</th> \n",
       "    </tr></thead> \n",
       "<tbody>    <tr> \n",
       "        <th id=\"T_c77ee8d8_50a1_11e8_b744_681729138dcdlevel0_row0\" class=\"row_heading level0 row0\" >0</th> \n",
       "        <td id=\"T_c77ee8d8_50a1_11e8_b744_681729138dcdrow0_col0\" class=\"data row0 col0\" >0.465347</td> \n",
       "        <td id=\"T_c77ee8d8_50a1_11e8_b744_681729138dcdrow0_col1\" class=\"data row0 col1\" >0.903846</td> \n",
       "        <td id=\"T_c77ee8d8_50a1_11e8_b744_681729138dcdrow0_col2\" class=\"data row0 col2\" >0.614379</td> \n",
       "        <td id=\"T_c77ee8d8_50a1_11e8_b744_681729138dcdrow0_col3\" class=\"data row0 col3\" >52</td> \n",
       "    </tr>    <tr> \n",
       "        <th id=\"T_c77ee8d8_50a1_11e8_b744_681729138dcdlevel0_row1\" class=\"row_heading level0 row1\" >1</th> \n",
       "        <td id=\"T_c77ee8d8_50a1_11e8_b744_681729138dcdrow1_col0\" class=\"data row1 col0\" >0.591837</td> \n",
       "        <td id=\"T_c77ee8d8_50a1_11e8_b744_681729138dcdrow1_col1\" class=\"data row1 col1\" >0.537037</td> \n",
       "        <td id=\"T_c77ee8d8_50a1_11e8_b744_681729138dcdrow1_col2\" class=\"data row1 col2\" >0.563107</td> \n",
       "        <td id=\"T_c77ee8d8_50a1_11e8_b744_681729138dcdrow1_col3\" class=\"data row1 col3\" >54</td> \n",
       "    </tr>    <tr> \n",
       "        <th id=\"T_c77ee8d8_50a1_11e8_b744_681729138dcdlevel0_row2\" class=\"row_heading level0 row2\" >2</th> \n",
       "        <td id=\"T_c77ee8d8_50a1_11e8_b744_681729138dcdrow2_col0\" class=\"data row2 col0\" >0.838095</td> \n",
       "        <td id=\"T_c77ee8d8_50a1_11e8_b744_681729138dcdrow2_col1\" class=\"data row2 col1\" >0.590604</td> \n",
       "        <td id=\"T_c77ee8d8_50a1_11e8_b744_681729138dcdrow2_col2\" class=\"data row2 col2\" >0.692913</td> \n",
       "        <td id=\"T_c77ee8d8_50a1_11e8_b744_681729138dcdrow2_col3\" class=\"data row2 col3\" >149</td> \n",
       "    </tr></tbody> \n",
       "</table> "
      ],
      "text/plain": [
       "<pandas.io.formats.style.Styler at 0x7f79762a4da0>"
      ]
     },
     "metadata": {},
     "output_type": "display_data"
    },
    {
     "name": "stdout",
     "output_type": "stream",
     "text": [
      "Neighbours amount: 10   Score: 0.6549019607843137\n"
     ]
    },
    {
     "data": {
      "text/html": [
       "<style  type=\"text/css\" >\n",
       "    #T_c77ee8d9_50a1_11e8_b744_681729138dcd tr:hover {\n",
       "          background-color: #ffff99;\n",
       "    }    #T_c77ee8d9_50a1_11e8_b744_681729138dcd th {\n",
       "          font-size: 150%;\n",
       "          text-align: center;\n",
       "    }    #T_c77ee8d9_50a1_11e8_b744_681729138dcd caption {\n",
       "          caption-side: bottom;\n",
       "    }</style>  \n",
       "<table id=\"T_c77ee8d9_50a1_11e8_b744_681729138dcd\" > \n",
       "<thead>    <tr> \n",
       "        <th class=\"blank level0\" ></th> \n",
       "        <th class=\"col_heading level0 col0\" >Precision</th> \n",
       "        <th class=\"col_heading level0 col1\" >Recall</th> \n",
       "        <th class=\"col_heading level0 col2\" >F1 score</th> \n",
       "        <th class=\"col_heading level0 col3\" >Support</th> \n",
       "    </tr></thead> \n",
       "<tbody>    <tr> \n",
       "        <th id=\"T_c77ee8d9_50a1_11e8_b744_681729138dcdlevel0_row0\" class=\"row_heading level0 row0\" >0</th> \n",
       "        <td id=\"T_c77ee8d9_50a1_11e8_b744_681729138dcdrow0_col0\" class=\"data row0 col0\" >0.455357</td> \n",
       "        <td id=\"T_c77ee8d9_50a1_11e8_b744_681729138dcdrow0_col1\" class=\"data row0 col1\" >0.980769</td> \n",
       "        <td id=\"T_c77ee8d9_50a1_11e8_b744_681729138dcdrow0_col2\" class=\"data row0 col2\" >0.621951</td> \n",
       "        <td id=\"T_c77ee8d9_50a1_11e8_b744_681729138dcdrow0_col3\" class=\"data row0 col3\" >52</td> \n",
       "    </tr>    <tr> \n",
       "        <th id=\"T_c77ee8d9_50a1_11e8_b744_681729138dcdlevel0_row1\" class=\"row_heading level0 row1\" >1</th> \n",
       "        <td id=\"T_c77ee8d9_50a1_11e8_b744_681729138dcdrow1_col0\" class=\"data row1 col0\" >0.666667</td> \n",
       "        <td id=\"T_c77ee8d9_50a1_11e8_b744_681729138dcdrow1_col1\" class=\"data row1 col1\" >0.481481</td> \n",
       "        <td id=\"T_c77ee8d9_50a1_11e8_b744_681729138dcdrow1_col2\" class=\"data row1 col2\" >0.55914</td> \n",
       "        <td id=\"T_c77ee8d9_50a1_11e8_b744_681729138dcdrow1_col3\" class=\"data row1 col3\" >54</td> \n",
       "    </tr>    <tr> \n",
       "        <th id=\"T_c77ee8d9_50a1_11e8_b744_681729138dcdlevel0_row2\" class=\"row_heading level0 row2\" >2</th> \n",
       "        <td id=\"T_c77ee8d9_50a1_11e8_b744_681729138dcdrow2_col0\" class=\"data row2 col0\" >0.865385</td> \n",
       "        <td id=\"T_c77ee8d9_50a1_11e8_b744_681729138dcdrow2_col1\" class=\"data row2 col1\" >0.604027</td> \n",
       "        <td id=\"T_c77ee8d9_50a1_11e8_b744_681729138dcdrow2_col2\" class=\"data row2 col2\" >0.711462</td> \n",
       "        <td id=\"T_c77ee8d9_50a1_11e8_b744_681729138dcdrow2_col3\" class=\"data row2 col3\" >149</td> \n",
       "    </tr></tbody> \n",
       "</table> "
      ],
      "text/plain": [
       "<pandas.io.formats.style.Styler at 0x7f797624a6d8>"
      ]
     },
     "metadata": {},
     "output_type": "display_data"
    },
    {
     "name": "stdout",
     "output_type": "stream",
     "text": [
      "Neighbours amount: 100   Score: 0.6627450980392157\n"
     ]
    },
    {
     "data": {
      "text/html": [
       "<style  type=\"text/css\" >\n",
       "    #T_c77ee8da_50a1_11e8_b744_681729138dcd tr:hover {\n",
       "          background-color: #ffff99;\n",
       "    }    #T_c77ee8da_50a1_11e8_b744_681729138dcd th {\n",
       "          font-size: 150%;\n",
       "          text-align: center;\n",
       "    }    #T_c77ee8da_50a1_11e8_b744_681729138dcd caption {\n",
       "          caption-side: bottom;\n",
       "    }</style>  \n",
       "<table id=\"T_c77ee8da_50a1_11e8_b744_681729138dcd\" > \n",
       "<thead>    <tr> \n",
       "        <th class=\"blank level0\" ></th> \n",
       "        <th class=\"col_heading level0 col0\" >Precision</th> \n",
       "        <th class=\"col_heading level0 col1\" >Recall</th> \n",
       "        <th class=\"col_heading level0 col2\" >F1 score</th> \n",
       "        <th class=\"col_heading level0 col3\" >Support</th> \n",
       "    </tr></thead> \n",
       "<tbody>    <tr> \n",
       "        <th id=\"T_c77ee8da_50a1_11e8_b744_681729138dcdlevel0_row0\" class=\"row_heading level0 row0\" >0</th> \n",
       "        <td id=\"T_c77ee8da_50a1_11e8_b744_681729138dcdrow0_col0\" class=\"data row0 col0\" >0.425</td> \n",
       "        <td id=\"T_c77ee8da_50a1_11e8_b744_681729138dcdrow0_col1\" class=\"data row0 col1\" >0.980769</td> \n",
       "        <td id=\"T_c77ee8da_50a1_11e8_b744_681729138dcdrow0_col2\" class=\"data row0 col2\" >0.593023</td> \n",
       "        <td id=\"T_c77ee8da_50a1_11e8_b744_681729138dcdrow0_col3\" class=\"data row0 col3\" >52</td> \n",
       "    </tr>    <tr> \n",
       "        <th id=\"T_c77ee8da_50a1_11e8_b744_681729138dcdlevel0_row1\" class=\"row_heading level0 row1\" >1</th> \n",
       "        <td id=\"T_c77ee8da_50a1_11e8_b744_681729138dcdrow1_col0\" class=\"data row1 col0\" >0.904762</td> \n",
       "        <td id=\"T_c77ee8da_50a1_11e8_b744_681729138dcdrow1_col1\" class=\"data row1 col1\" >0.351852</td> \n",
       "        <td id=\"T_c77ee8da_50a1_11e8_b744_681729138dcdrow1_col2\" class=\"data row1 col2\" >0.506667</td> \n",
       "        <td id=\"T_c77ee8da_50a1_11e8_b744_681729138dcdrow1_col3\" class=\"data row1 col3\" >54</td> \n",
       "    </tr>    <tr> \n",
       "        <th id=\"T_c77ee8da_50a1_11e8_b744_681729138dcdlevel0_row2\" class=\"row_heading level0 row2\" >2</th> \n",
       "        <td id=\"T_c77ee8da_50a1_11e8_b744_681729138dcdrow2_col0\" class=\"data row2 col0\" >0.868421</td> \n",
       "        <td id=\"T_c77ee8da_50a1_11e8_b744_681729138dcdrow2_col1\" class=\"data row2 col1\" >0.66443</td> \n",
       "        <td id=\"T_c77ee8da_50a1_11e8_b744_681729138dcdrow2_col2\" class=\"data row2 col2\" >0.752852</td> \n",
       "        <td id=\"T_c77ee8da_50a1_11e8_b744_681729138dcdrow2_col3\" class=\"data row2 col3\" >149</td> \n",
       "    </tr></tbody> \n",
       "</table> "
      ],
      "text/plain": [
       "<pandas.io.formats.style.Styler at 0x7f7976262240>"
      ]
     },
     "metadata": {},
     "output_type": "display_data"
    },
    {
     "name": "stdout",
     "output_type": "stream",
     "text": [
      "Neighbours amount: 1000   Score: 0.6941176470588235\n"
     ]
    },
    {
     "data": {
      "text/html": [
       "<style  type=\"text/css\" >\n",
       "    #T_c8ca8fce_50a1_11e8_b744_681729138dcd tr:hover {\n",
       "          background-color: #ffff99;\n",
       "    }    #T_c8ca8fce_50a1_11e8_b744_681729138dcd th {\n",
       "          font-size: 150%;\n",
       "          text-align: center;\n",
       "    }    #T_c8ca8fce_50a1_11e8_b744_681729138dcd caption {\n",
       "          caption-side: bottom;\n",
       "    }</style>  \n",
       "<table id=\"T_c8ca8fce_50a1_11e8_b744_681729138dcd\" > \n",
       "<thead>    <tr> \n",
       "        <th class=\"blank level0\" ></th> \n",
       "        <th class=\"col_heading level0 col0\" >Precision</th> \n",
       "        <th class=\"col_heading level0 col1\" >Recall</th> \n",
       "        <th class=\"col_heading level0 col2\" >F1 score</th> \n",
       "        <th class=\"col_heading level0 col3\" >Support</th> \n",
       "    </tr></thead> \n",
       "<tbody>    <tr> \n",
       "        <th id=\"T_c8ca8fce_50a1_11e8_b744_681729138dcdlevel0_row0\" class=\"row_heading level0 row0\" >0</th> \n",
       "        <td id=\"T_c8ca8fce_50a1_11e8_b744_681729138dcdrow0_col0\" class=\"data row0 col0\" >0.789474</td> \n",
       "        <td id=\"T_c8ca8fce_50a1_11e8_b744_681729138dcdrow0_col1\" class=\"data row0 col1\" >0.576923</td> \n",
       "        <td id=\"T_c8ca8fce_50a1_11e8_b744_681729138dcdrow0_col2\" class=\"data row0 col2\" >0.666667</td> \n",
       "        <td id=\"T_c8ca8fce_50a1_11e8_b744_681729138dcdrow0_col3\" class=\"data row0 col3\" >52</td> \n",
       "    </tr>    <tr> \n",
       "        <th id=\"T_c8ca8fce_50a1_11e8_b744_681729138dcdlevel0_row1\" class=\"row_heading level0 row1\" >1</th> \n",
       "        <td id=\"T_c8ca8fce_50a1_11e8_b744_681729138dcdrow1_col0\" class=\"data row1 col0\" >1</td> \n",
       "        <td id=\"T_c8ca8fce_50a1_11e8_b744_681729138dcdrow1_col1\" class=\"data row1 col1\" >0.0555556</td> \n",
       "        <td id=\"T_c8ca8fce_50a1_11e8_b744_681729138dcdrow1_col2\" class=\"data row1 col2\" >0.105263</td> \n",
       "        <td id=\"T_c8ca8fce_50a1_11e8_b744_681729138dcdrow1_col3\" class=\"data row1 col3\" >54</td> \n",
       "    </tr>    <tr> \n",
       "        <th id=\"T_c8ca8fce_50a1_11e8_b744_681729138dcdlevel0_row2\" class=\"row_heading level0 row2\" >2</th> \n",
       "        <td id=\"T_c8ca8fce_50a1_11e8_b744_681729138dcdrow2_col0\" class=\"data row2 col0\" >0.672897</td> \n",
       "        <td id=\"T_c8ca8fce_50a1_11e8_b744_681729138dcdrow2_col1\" class=\"data row2 col1\" >0.966443</td> \n",
       "        <td id=\"T_c8ca8fce_50a1_11e8_b744_681729138dcdrow2_col2\" class=\"data row2 col2\" >0.793388</td> \n",
       "        <td id=\"T_c8ca8fce_50a1_11e8_b744_681729138dcdrow2_col3\" class=\"data row2 col3\" >149</td> \n",
       "    </tr></tbody> \n",
       "</table> "
      ],
      "text/plain": [
       "<pandas.io.formats.style.Styler at 0x7f797624a6d8>"
      ]
     },
     "metadata": {},
     "output_type": "display_data"
    }
   ],
   "source": [
    "stats = []\n",
    "for i in [5, 10, 100, 1000]:\n",
    "    knn_model = KNeighborsClassifier(n_neighbors=i)\n",
    "    knn_model.fit(x_train, y_train)\n",
    "    knn_pred = knn_model.predict(x_test)\n",
    "    knn_score = knn_model.score(x_test, y_test) # score = correct predictions / total number of data points\n",
    "    stats.append([i, knn_score])\n",
    "    print('Neighbours amount: {}   Score: {}'.format(i, knn_score))\n",
    "    knn_prfs_score = metrics.precision_recall_fscore_support(y_test, knn_pred)\n",
    "    knn_df = pd.DataFrame(data={'Precision': knn_prfs_score[0], 'Recall': knn_prfs_score[1], \n",
    "                                'F1 score': knn_prfs_score[2], 'Support': knn_prfs_score[3]},\n",
    "                          columns=['Precision', 'Recall', 'F1 score', 'Support'], index=[0, 1, 2])\n",
    "\n",
    "    results = (knn_df.style.set_table_styles(styles))\n",
    "    display(results)"
   ]
  },
  {
   "cell_type": "markdown",
   "metadata": {},
   "source": [
    "- How does the k parameter effect the results? <br>\n",
    "_Hint_: Consider how well the classifier is generalising to previously unseen data, and how it compares to the base rate again."
   ]
  },
  {
   "cell_type": "markdown",
   "metadata": {},
   "source": [
    "- Plot the results (k-value on the x-axis and PC on the y-axis), making sure to mark the axis. Can you conclude anything from observing the plot?"
   ]
  },
  {
   "cell_type": "code",
   "execution_count": 51,
   "metadata": {},
   "outputs": [
    {
     "data": {
      "image/png": "[encoded data removed]",
      "text/plain": [
       "<matplotlib.figure.Figure at 0x7f7976369358>"
      ]
     },
     "metadata": {},
     "output_type": "display_data"
    }
   ],
   "source": [
    "plt.plot(np.array(stats).T[0], np.array(stats).T[1], '-o')\n",
    "plt.xlabel('k-value')\n",
    "plt.ylabel('Score')\n",
    "plt.title('K-neighbour and Score relation')\n",
    "plt.show()"
   ]
  },
  {
   "cell_type": "code",
   "execution_count": null,
   "metadata": {},
   "outputs": [],
   "source": []
  }
 ],
 "metadata": {
  "kernelspec": {
   "display_name": "Python 3",
   "language": "python",
   "name": "python3"
  },
  "language_info": {
   "codemirror_mode": {
    "name": "ipython",
    "version": 3
   },
   "file_extension": ".py",
   "mimetype": "text/x-python",
   "name": "python",
   "nbconvert_exporter": "python",
   "pygments_lexer": "ipython3",
   "version": "3.5.2"
  }
 },
 "nbformat": 4,
 "nbformat_minor": 2
}
