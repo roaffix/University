{
 "cells": [
  {
   "cell_type": "code",
   "execution_count": 144,
   "metadata": {},
   "outputs": [
    {
     "data": {
      "text/plain": [
       "\"import plotly.plotly as py\\nimport plotly.graph_objs as go\\nfrom plotly.tools import set_credentials_file\\nfrom plotly.offline import init_notebook_mode\\nset_credentials_file(username='mynameistony', api_key='M37H9VmJFuqdvIdT33vj')\\ninit_notebook_mode(connected=True)\""
      ]
     },
     "execution_count": 144,
     "metadata": {},
     "output_type": "execute_result"
    }
   ],
   "source": [
    "from scipy.io import arff\n",
    "import pandas as pd\n",
    "import numpy as np\n",
    "\n",
    "from sklearn.neighbors import KNeighborsClassifier\n",
    "from sklearn.linear_model import LogisticRegression\n",
    "from sklearn.model_selection import train_test_split\n",
    "from sklearn import metrics\n",
    "\n",
    "from IPython.display import HTML\n",
    "\n",
    "%matplotlib inline\n",
    "import matplotlib.pyplot as plt\n",
    "import seaborn as sns\n",
    "sns.set(palette = \"Set2\")\n",
    "params = {'legend.fontsize': 'x-large',\n",
    "          'figure.figsize': (15, 10),\n",
    "         'axes.labelsize': 'x-large',\n",
    "         'axes.titlesize':'x-large',\n",
    "         'xtick.labelsize':'x-large',\n",
    "         'ytick.labelsize':'x-large'}\n",
    "plt.rcParams.update(params)\n",
    "\n",
    "\"\"\"import plotly.plotly as py\n",
    "import plotly.graph_objs as go\n",
    "from plotly.tools import set_credentials_file\n",
    "from plotly.offline import init_notebook_mode\n",
    "set_credentials_file(username='mynameistony', api_key='M37H9VmJFuqdvIdT33vj')\n",
    "init_notebook_mode(connected=True)\"\"\""
   ]
  },
  {
   "cell_type": "code",
   "execution_count": 2,
   "metadata": {},
   "outputs": [],
   "source": [
    "def hover(hover_color=\"#ffff99\"):\n",
    "    return dict(selector=\"tr:hover\",\n",
    "                props=[(\"background-color\", \"%s\" % hover_color)])\n",
    "\n",
    "styles = [\n",
    "    hover(),\n",
    "    dict(selector=\"th\", props=[(\"font-size\", \"150%\"),\n",
    "                               (\"text-align\", \"center\")]),\n",
    "    dict(selector=\"caption\", props=[(\"caption-side\", \"bottom\")])\n",
    "]"
   ]
  },
  {
   "cell_type": "markdown",
   "metadata": {},
   "source": [
    "## SPAM FILTERING"
   ]
  },
  {
   "cell_type": "markdown",
   "metadata": {},
   "source": [
    "Load data in .arff to pd.DataFrame (1.2)"
   ]
  },
  {
   "cell_type": "code",
   "execution_count": 3,
   "metadata": {},
   "outputs": [],
   "source": [
    "data, _ = arff.loadarff('data/raw/spambase.arff.txt')\n",
    "spambase = pd.DataFrame(data)"
   ]
  },
  {
   "cell_type": "markdown",
   "metadata": {},
   "source": [
    "Drop columns (1.4)"
   ]
  },
  {
   "cell_type": "code",
   "execution_count": 4,
   "metadata": {},
   "outputs": [],
   "source": [
    "spambase.drop(['capital_run_length_average', 'capital_run_length_longest', 'capital_run_length_total'], 1, inplace=True)"
   ]
  },
  {
   "cell_type": "markdown",
   "metadata": {},
   "source": [
    "Convert column types (1.5)"
   ]
  },
  {
   "cell_type": "code",
   "execution_count": 5,
   "metadata": {},
   "outputs": [],
   "source": [
    "def numberic_to_bool(df, inplace=False):\n",
    "    \"\"\"\n",
    "    convert columns with numerical dtypes to boolean\n",
    "    \"\"\"\n",
    "    if not inplace:\n",
    "        df = df.copy()\n",
    "    num_cols = df.select_dtypes(float).columns\n",
    "    df.loc[:, num_cols] = df.loc[:, num_cols].astype(bool).astype(int)\n",
    "    return df\n",
    "\n",
    "def object_to_str(df, inplace=False, str_to_bool=False):\n",
    "    \"\"\"\n",
    "    convert columns with objects dtypes to str (or bool)\n",
    "    \"\"\"\n",
    "    if not inplace:\n",
    "        df = df.copy()\n",
    "    if not str_to_bool:\n",
    "        lmbd = lambda x: x.str\n",
    "    else:\n",
    "        lmbd = lambda x: x.str.decode(\"utf-8\").astype(int)\n",
    "    obj_cols = df.select_dtypes([np.object]).columns\n",
    "    df.loc[:, obj_cols] = df.loc[:, obj_cols].apply(lmbd)\n",
    "    return df"
   ]
  },
  {
   "cell_type": "code",
   "execution_count": 6,
   "metadata": {},
   "outputs": [],
   "source": [
    "spambase = numberic_to_bool(spambase)"
   ]
  },
  {
   "cell_type": "code",
   "execution_count": 7,
   "metadata": {},
   "outputs": [],
   "source": [
    "spambase = object_to_str(spambase, False, True)"
   ]
  },
  {
   "cell_type": "markdown",
   "metadata": {},
   "source": [
    "Save data with bag of words (1.6)"
   ]
  },
  {
   "cell_type": "code",
   "execution_count": 8,
   "metadata": {},
   "outputs": [],
   "source": [
    "spambase.to_csv('data/spambase_bag_of_words.csv', index=False)"
   ]
  },
  {
   "cell_type": "markdown",
   "metadata": {},
   "source": [
    "## Train models"
   ]
  },
  {
   "cell_type": "code",
   "execution_count": 9,
   "metadata": {},
   "outputs": [],
   "source": [
    "Y = spambase.pop('is_spam')\n",
    "X = spambase"
   ]
  },
  {
   "cell_type": "code",
   "execution_count": 10,
   "metadata": {},
   "outputs": [],
   "source": [
    "x_train, x_test, y_train, y_test = train_test_split(X, Y, test_size=0.1, random_state=0)"
   ]
  },
  {
   "cell_type": "code",
   "execution_count": 11,
   "metadata": {},
   "outputs": [
    {
     "name": "stdout",
     "output_type": "stream",
     "text": [
      "Train label:\n",
      "Number of '0' values: 2525\n",
      "Number of '1' values: 1615\n",
      "Relation '1' to '0': 0.6396039603960396\n",
      "\n",
      "Test label:\n",
      "Number of '0' values: 263\n",
      "Number of '1' values: 198\n",
      "Relation '1' to '0': 0.752851711026616\n"
     ]
    }
   ],
   "source": [
    "print(\"Train label:\\nNumber of '0' values: {}\".format(y_train.value_counts()[0]))\n",
    "print(\"Number of '1' values: {}\".format(y_train.value_counts()[1]))\n",
    "print(\"Relation '1' to '0': {}\\n\".format(y_train.value_counts()[1]/y_train.value_counts()[0]))\n",
    "print(\"Test label:\\nNumber of '0' values: {}\".format(y_test.value_counts()[0]))\n",
    "print(\"Number of '1' values: {}\".format(y_test.value_counts()[1]))\n",
    "print(\"Relation '1' to '0': {}\".format(y_test.value_counts()[1]/y_test.value_counts()[0]))"
   ]
  },
  {
   "cell_type": "markdown",
   "metadata": {},
   "source": [
    "### Logistic Regression"
   ]
  },
  {
   "cell_type": "code",
   "execution_count": 12,
   "metadata": {},
   "outputs": [
    {
     "data": {
      "text/plain": [
       "LogisticRegression(C=1.0, class_weight=None, dual=False, fit_intercept=True,\n",
       "          intercept_scaling=1, max_iter=100, multi_class='ovr', n_jobs=1,\n",
       "          penalty='l2', random_state=None, solver='liblinear', tol=0.0001,\n",
       "          verbose=0, warm_start=False)"
      ]
     },
     "execution_count": 12,
     "metadata": {},
     "output_type": "execute_result"
    }
   ],
   "source": [
    "log_regr_model = LogisticRegression()\n",
    "log_regr_model.fit(x_train, y_train)"
   ]
  },
  {
   "cell_type": "code",
   "execution_count": 13,
   "metadata": {},
   "outputs": [],
   "source": [
    "log_regr_pred = log_regr_model.predict(x_test)"
   ]
  },
  {
   "cell_type": "markdown",
   "metadata": {},
   "source": [
    "- What is the percentage of correctly classified instances?"
   ]
  },
  {
   "cell_type": "code",
   "execution_count": 14,
   "metadata": {},
   "outputs": [
    {
     "name": "stdout",
     "output_type": "stream",
     "text": [
      "Score: 0.9327548806941431\n"
     ]
    }
   ],
   "source": [
    "log_regr_score = log_regr_model.score(x_test, y_test) # score = correct predictions / total number of data points\n",
    "print('Score: {}'.format(log_regr_score))"
   ]
  },
  {
   "cell_type": "code",
   "execution_count": 15,
   "metadata": {},
   "outputs": [
    {
     "data": {
      "image/png": "[encoded data removed]",
      "text/plain": [
       "<Figure size 432x288 with 2 Axes>"
      ]
     },
     "metadata": {},
     "output_type": "display_data"
    }
   ],
   "source": [
    "log_regr_conf_matrix = metrics.confusion_matrix(y_test, log_regr_pred)\n",
    "sns.heatmap(log_regr_conf_matrix, annot=True, fmt=\"d\")\n",
    "plt.ylabel('True label', size=20)\n",
    "plt.xlabel('Predicted label', size=20)\n",
    "plt.title('Confusion matrix', size=26)\n",
    "plt.show()"
   ]
  },
  {
   "cell_type": "code",
   "execution_count": 16,
   "metadata": {},
   "outputs": [
    {
     "data": {
      "text/html": [
       "<style  type=\"text/css\" >\n",
       "    #T_592a9c08_4f76_11e8_8cc2_0025904f36cb tr:hover {\n",
       "          background-color: #ffff99;\n",
       "    }    #T_592a9c08_4f76_11e8_8cc2_0025904f36cb th {\n",
       "          font-size: 150%;\n",
       "          text-align: center;\n",
       "    }    #T_592a9c08_4f76_11e8_8cc2_0025904f36cb caption {\n",
       "          caption-side: bottom;\n",
       "    }</style>  \n",
       "<table id=\"T_592a9c08_4f76_11e8_8cc2_0025904f36cb\" ><caption>Hover to highlight.</caption> \n",
       "<thead>    <tr> \n",
       "        <th class=\"blank level0\" ></th> \n",
       "        <th class=\"col_heading level0 col0\" >Precision</th> \n",
       "        <th class=\"col_heading level0 col1\" >Recall</th> \n",
       "        <th class=\"col_heading level0 col2\" >F1 score</th> \n",
       "        <th class=\"col_heading level0 col3\" >Support</th> \n",
       "    </tr></thead> \n",
       "<tbody>    <tr> \n",
       "        <th id=\"T_592a9c08_4f76_11e8_8cc2_0025904f36cblevel0_row0\" class=\"row_heading level0 row0\" >0</th> \n",
       "        <td id=\"T_592a9c08_4f76_11e8_8cc2_0025904f36cbrow0_col0\" class=\"data row0 col0\" >0.923358</td> \n",
       "        <td id=\"T_592a9c08_4f76_11e8_8cc2_0025904f36cbrow0_col1\" class=\"data row0 col1\" >0.961977</td> \n",
       "        <td id=\"T_592a9c08_4f76_11e8_8cc2_0025904f36cbrow0_col2\" class=\"data row0 col2\" >0.942272</td> \n",
       "        <td id=\"T_592a9c08_4f76_11e8_8cc2_0025904f36cbrow0_col3\" class=\"data row0 col3\" >263</td> \n",
       "    </tr>    <tr> \n",
       "        <th id=\"T_592a9c08_4f76_11e8_8cc2_0025904f36cblevel0_row1\" class=\"row_heading level0 row1\" >1</th> \n",
       "        <td id=\"T_592a9c08_4f76_11e8_8cc2_0025904f36cbrow1_col0\" class=\"data row1 col0\" >0.946524</td> \n",
       "        <td id=\"T_592a9c08_4f76_11e8_8cc2_0025904f36cbrow1_col1\" class=\"data row1 col1\" >0.893939</td> \n",
       "        <td id=\"T_592a9c08_4f76_11e8_8cc2_0025904f36cbrow1_col2\" class=\"data row1 col2\" >0.919481</td> \n",
       "        <td id=\"T_592a9c08_4f76_11e8_8cc2_0025904f36cbrow1_col3\" class=\"data row1 col3\" >198</td> \n",
       "    </tr></tbody> \n",
       "</table> "
      ],
      "text/plain": [
       "<pandas.io.formats.style.Styler at 0x7f428cbca8d0>"
      ]
     },
     "execution_count": 16,
     "metadata": {},
     "output_type": "execute_result"
    }
   ],
   "source": [
    "# http://scikit-learn.org/stable/modules/generated/sklearn.metrics.precision_recall_fscore_support.html\n",
    "\n",
    "log_regr_prfs_score = metrics.precision_recall_fscore_support(y_test, log_regr_pred)\n",
    "log_regr_df = pd.DataFrame(data={'Precision': log_regr_prfs_score[0], 'Recall': log_regr_prfs_score[1],\n",
    "                                 'F1 score': log_regr_prfs_score[2], 'Support': log_regr_prfs_score[3]},\n",
    "                           columns=['Precision', 'Recall', 'F1 score', 'Support'], index=[0, 1])\n",
    "\n",
    "html = (log_regr_df.style.set_table_styles(styles).set_caption(\"Hover to highlight.\"))\n",
    "html"
   ]
  },
  {
   "cell_type": "code",
   "execution_count": 17,
   "metadata": {},
   "outputs": [
    {
     "data": {
      "image/png": "[encoded data removed]",
      "text/plain": [
       "<Figure size 432x288 with 1 Axes>"
      ]
     },
     "metadata": {},
     "output_type": "display_data"
    }
   ],
   "source": [
    "# http://scikit-learn.org/stable/auto_examples/model_selection/plot_precision_recall.html\n",
    "\n",
    "log_regr_average_precision = metrics.average_precision_score(y_test, log_regr_pred)\n",
    "log_regr_precision, log_regr_recall, _ = metrics.precision_recall_curve(y_test, log_regr_pred)\n",
    "\n",
    "plt.step(log_regr_recall, log_regr_precision, color='b', alpha=0.2, where='post')\n",
    "plt.fill_between(log_regr_recall, log_regr_precision, step='post', alpha=0.2, color='b')\n",
    "\n",
    "plt.xlabel('Recall')\n",
    "plt.ylabel('Precision')\n",
    "plt.ylim([0.0, 1.05])\n",
    "plt.xlim([0.0, 1.05])\n",
    "plt.title('2-class Precision-Recall curve: AP={0:0.2f}'.format(log_regr_average_precision))\n",
    "plt.show()"
   ]
  },
  {
   "cell_type": "markdown",
   "metadata": {},
   "source": [
    "- How do the regression coefficients for class 1 relate to the ones for class 0?\n",
    "Can you derive this result from the form of the Logistic Regression model?"
   ]
  },
  {
   "cell_type": "code",
   "execution_count": 18,
   "metadata": {},
   "outputs": [],
   "source": [
    "log_regr_coef = log_regr_model.coef_[0]"
   ]
  },
  {
   "cell_type": "code",
   "execution_count": 19,
   "metadata": {},
   "outputs": [
    {
     "data": {
      "text/plain": [
       "0.9285714285714286"
      ]
     },
     "execution_count": 19,
     "metadata": {},
     "output_type": "execute_result"
    }
   ],
   "source": [
    "# ??? How to calculate?\n",
    "len(log_regr_coef[log_regr_coef > 0])/len(log_regr_coef[log_regr_coef < 0])"
   ]
  },
  {
   "cell_type": "markdown",
   "metadata": {},
   "source": [
    "- Write down the coefficients for class 1 for the\n",
    "attributes **[word_freq_hp_binarized]** and **\\[char_freq_\\$_binarized\\]**.\n",
    "Generally, we would expect the string **$** to appear in spam, and the\n",
    "string hp to appear in non-spam e-mails, as the data was collected from HP\n",
    "Labs. Do the regression coefficients make sense given that class 1 is\n",
    "spam? <br>\n",
    "_Hint_: Consider the sigmoid function and how it transforms values into\n",
    "a probability between 0 and 1. Since our attributes are boolean, a positive\n",
    "coefficient can only increase the total sum fed through the sigmoid and thus\n",
    "move the output of the sigmoid towards 1. What can happen if we have\n",
    "continuous, real-valued attributes?"
   ]
  },
  {
   "cell_type": "code",
   "execution_count": 20,
   "metadata": {
    "scrolled": true
   },
   "outputs": [
    {
     "name": "stdout",
     "output_type": "stream",
     "text": [
      "Coef equals -2.710106678587926  =>  not spam\n"
     ]
    }
   ],
   "source": [
    "log_regr_word_freq_hp_coef = log_regr_coef[x_train.columns.get_loc('word_freq_hp')]\n",
    "print('Coef equals {}  =>  not spam'.format(log_regr_word_freq_hp_coef))"
   ]
  },
  {
   "cell_type": "code",
   "execution_count": 21,
   "metadata": {},
   "outputs": [
    {
     "name": "stdout",
     "output_type": "stream",
     "text": [
      "Coef equals 1.6930235734119126  =>  spam\n"
     ]
    }
   ],
   "source": [
    "log_regr_char_freq_coef = log_regr_coef[x_train.columns.get_loc('char_freq_$')]\n",
    "print('Coef equals {}  =>  spam'.format(log_regr_char_freq_coef))"
   ]
  },
  {
   "cell_type": "markdown",
   "metadata": {},
   "source": [
    "###  Support Vector Machine"
   ]
  },
  {
   "cell_type": "code",
   "execution_count": 22,
   "metadata": {},
   "outputs": [],
   "source": [
    "from sklearn import svm\n",
    " "
   ]
  },
  {
   "cell_type": "code",
   "execution_count": 23,
   "metadata": {},
   "outputs": [
    {
     "data": {
      "text/plain": [
       "SVC(C=1.0, cache_size=200, class_weight=None, coef0=0.0,\n",
       "  decision_function_shape='ovr', degree=3, gamma='auto', kernel='linear',\n",
       "  max_iter=-1, probability=False, random_state=None, shrinking=True,\n",
       "  tol=0.001, verbose=False)"
      ]
     },
     "execution_count": 23,
     "metadata": {},
     "output_type": "execute_result"
    }
   ],
   "source": [
    "svm_model = svm.SVC(kernel='linear')\n",
    "svm_model.fit(x_train, y_train)"
   ]
  },
  {
   "cell_type": "code",
   "execution_count": 24,
   "metadata": {},
   "outputs": [],
   "source": [
    "svm_pred = svm_model.predict(x_test)"
   ]
  },
  {
   "cell_type": "markdown",
   "metadata": {},
   "source": [
    "- What is the percent of correctly classified instances? How does it compare to\n",
    "the result from Logistic Regression?"
   ]
  },
  {
   "cell_type": "code",
   "execution_count": 25,
   "metadata": {},
   "outputs": [
    {
     "name": "stdout",
     "output_type": "stream",
     "text": [
      "Score: 0.9327548806941431\n"
     ]
    }
   ],
   "source": [
    "svm_score = svm_model.score(x_test, y_test) # score = correct predictions / total number of data points\n",
    "print('Score: {}'.format(svm_score))"
   ]
  },
  {
   "cell_type": "code",
   "execution_count": 26,
   "metadata": {},
   "outputs": [
    {
     "data": {
      "image/png": "[encoded data removed]",
      "text/plain": [
       "<Figure size 432x288 with 2 Axes>"
      ]
     },
     "metadata": {},
     "output_type": "display_data"
    }
   ],
   "source": [
    "svm_conf_matrix = metrics.confusion_matrix(y_test, svm_pred)\n",
    "sns.heatmap(svm_conf_matrix, annot=True, fmt=\"d\")\n",
    "plt.ylabel('True label', size=20)\n",
    "plt.xlabel('Predicted label', size=20)\n",
    "plt.title('Confusion matrix', size=26)\n",
    "plt.show()"
   ]
  },
  {
   "cell_type": "code",
   "execution_count": 27,
   "metadata": {},
   "outputs": [
    {
     "data": {
      "text/html": [
       "<style  type=\"text/css\" >\n",
       "    #T_592a9c09_4f76_11e8_8cc2_0025904f36cb tr:hover {\n",
       "          background-color: #ffff99;\n",
       "    }    #T_592a9c09_4f76_11e8_8cc2_0025904f36cb th {\n",
       "          font-size: 150%;\n",
       "          text-align: center;\n",
       "    }    #T_592a9c09_4f76_11e8_8cc2_0025904f36cb caption {\n",
       "          caption-side: bottom;\n",
       "    }</style>  \n",
       "<table id=\"T_592a9c09_4f76_11e8_8cc2_0025904f36cb\" ><caption>Hover to highlight.</caption> \n",
       "<thead>    <tr> \n",
       "        <th class=\"blank level0\" ></th> \n",
       "        <th class=\"col_heading level0 col0\" >Precision</th> \n",
       "        <th class=\"col_heading level0 col1\" >Recall</th> \n",
       "        <th class=\"col_heading level0 col2\" >F1 score</th> \n",
       "        <th class=\"col_heading level0 col3\" >Support</th> \n",
       "    </tr></thead> \n",
       "<tbody>    <tr> \n",
       "        <th id=\"T_592a9c09_4f76_11e8_8cc2_0025904f36cblevel0_row0\" class=\"row_heading level0 row0\" >0</th> \n",
       "        <td id=\"T_592a9c09_4f76_11e8_8cc2_0025904f36cbrow0_col0\" class=\"data row0 col0\" >0.923358</td> \n",
       "        <td id=\"T_592a9c09_4f76_11e8_8cc2_0025904f36cbrow0_col1\" class=\"data row0 col1\" >0.961977</td> \n",
       "        <td id=\"T_592a9c09_4f76_11e8_8cc2_0025904f36cbrow0_col2\" class=\"data row0 col2\" >0.942272</td> \n",
       "        <td id=\"T_592a9c09_4f76_11e8_8cc2_0025904f36cbrow0_col3\" class=\"data row0 col3\" >263</td> \n",
       "    </tr>    <tr> \n",
       "        <th id=\"T_592a9c09_4f76_11e8_8cc2_0025904f36cblevel0_row1\" class=\"row_heading level0 row1\" >1</th> \n",
       "        <td id=\"T_592a9c09_4f76_11e8_8cc2_0025904f36cbrow1_col0\" class=\"data row1 col0\" >0.946524</td> \n",
       "        <td id=\"T_592a9c09_4f76_11e8_8cc2_0025904f36cbrow1_col1\" class=\"data row1 col1\" >0.893939</td> \n",
       "        <td id=\"T_592a9c09_4f76_11e8_8cc2_0025904f36cbrow1_col2\" class=\"data row1 col2\" >0.919481</td> \n",
       "        <td id=\"T_592a9c09_4f76_11e8_8cc2_0025904f36cbrow1_col3\" class=\"data row1 col3\" >198</td> \n",
       "    </tr></tbody> \n",
       "</table> "
      ],
      "text/plain": [
       "<pandas.io.formats.style.Styler at 0x7f428a4b79e8>"
      ]
     },
     "execution_count": 27,
     "metadata": {},
     "output_type": "execute_result"
    }
   ],
   "source": [
    "# http://scikit-learn.org/stable/modules/generated/sklearn.metrics.precision_recall_fscore_support.html\n",
    "\n",
    "svm_prfs_score = metrics.precision_recall_fscore_support(y_test, svm_pred)\n",
    "svm_df = pd.DataFrame(data={'Precision': svm_prfs_score[0], 'Recall': svm_prfs_score[1], \n",
    "                            'F1 score': svm_prfs_score[2], 'Support': svm_prfs_score[3]},\n",
    "                      columns=['Precision', 'Recall', 'F1 score', 'Support'], index=[0, 1])\n",
    "\n",
    "html = (svm_df.style.set_table_styles(styles).set_caption(\"Hover to highlight.\"))\n",
    "html"
   ]
  },
  {
   "cell_type": "code",
   "execution_count": 28,
   "metadata": {},
   "outputs": [
    {
     "data": {
      "image/png": "[encoded data removed]",
      "text/plain": [
       "<Figure size 432x288 with 1 Axes>"
      ]
     },
     "metadata": {},
     "output_type": "display_data"
    }
   ],
   "source": [
    "# http://scikit-learn.org/stable/auto_examples/model_selection/plot_precision_recall.html\n",
    "\n",
    "svm_average_precision = metrics.average_precision_score(y_test, svm_pred)\n",
    "svm_precision, svm_recall, _ = metrics.precision_recall_curve(y_test, svm_pred)\n",
    "\n",
    "plt.step(svm_recall, svm_precision, color='b', alpha=0.2, where='post')\n",
    "plt.fill_between(svm_recall, svm_precision, step='post', alpha=0.2, color='b')\n",
    "\n",
    "plt.xlabel('Recall')\n",
    "plt.ylabel('Precision')\n",
    "plt.ylim([0.0, 1.05])\n",
    "plt.xlim([0.0, 1.05])\n",
    "plt.title('2-class Precision-Recall curve: AP={0:0.2f}'.format(svm_average_precision))\n",
    "plt.show()"
   ]
  },
  {
   "cell_type": "markdown",
   "metadata": {},
   "source": [
    "- What are the coefficients for the\n",
    "attributes **[word_freq_hp_binarized]** and **[char_freq_$_binarized]**?\n",
    "Compare these to the ones you found with Logistic Regression."
   ]
  },
  {
   "cell_type": "code",
   "execution_count": 29,
   "metadata": {},
   "outputs": [],
   "source": [
    "svm_coef = svm_model.coef_[0]"
   ]
  },
  {
   "cell_type": "code",
   "execution_count": 30,
   "metadata": {},
   "outputs": [
    {
     "name": "stdout",
     "output_type": "stream",
     "text": [
      "Coef equals -2.104702653506182  =>  not spam\n"
     ]
    }
   ],
   "source": [
    "svm_word_freq_hp_coef = svm_coef[x_train.columns.get_loc('word_freq_hp')]\n",
    "print('Coef equals {}  =>  not spam'.format(svm_word_freq_hp_coef))"
   ]
  },
  {
   "cell_type": "code",
   "execution_count": 31,
   "metadata": {},
   "outputs": [
    {
     "name": "stdout",
     "output_type": "stream",
     "text": [
      "Coef equals 1.2210970567459125  =>  spam\n"
     ]
    }
   ],
   "source": [
    "svm_char_freq_coef = svm_coef[x_train.columns.get_loc('char_freq_$')]\n",
    "print('Coef equals {}  =>  spam'.format(svm_char_freq_coef))"
   ]
  },
  {
   "cell_type": "markdown",
   "metadata": {},
   "source": [
    "### Comparison "
   ]
  },
  {
   "cell_type": "code",
   "execution_count": 32,
   "metadata": {},
   "outputs": [],
   "source": [
    "log_regr_df = log_regr_df.assign(Model='Logistic Regression')\n",
    "svm_df = svm_df.assign(Model='Support Vector Machine')"
   ]
  },
  {
   "cell_type": "code",
   "execution_count": 33,
   "metadata": {},
   "outputs": [],
   "source": [
    "df = log_regr_df.append(svm_df)\n",
    "df.index.name = 'Class'"
   ]
  },
  {
   "cell_type": "code",
   "execution_count": 34,
   "metadata": {},
   "outputs": [],
   "source": [
    "comp_table = pd.pivot_table(df, index=['Model', 'Class'])\n",
    "comp_table = comp_table.drop(['Support'], axis=1)\n",
    "comp_table.index = comp_table.index.set_names([None, 'Class'])"
   ]
  },
  {
   "cell_type": "code",
   "execution_count": 35,
   "metadata": {},
   "outputs": [],
   "source": [
    "coef_compar = pd.DataFrame(data={'Logistic Regression': [log_regr_word_freq_hp_coef, log_regr_char_freq_coef],\n",
    "                                 'Support Vector Machine': [svm_word_freq_hp_coef, svm_char_freq_coef]}, index=['word_freq_hp', 'char_freq_$'])"
   ]
  },
  {
   "cell_type": "code",
   "execution_count": 36,
   "metadata": {},
   "outputs": [],
   "source": [
    "metrics_table = (comp_table.T.style.set_table_styles(styles))\n",
    "coef_table = (coef_compar.T.style.set_table_styles(styles))"
   ]
  },
  {
   "cell_type": "code",
   "execution_count": 37,
   "metadata": {},
   "outputs": [
    {
     "data": {
      "text/html": [
       "<style  type=\"text/css\" >\n",
       "    #T_592a9c0a_4f76_11e8_8cc2_0025904f36cb tr:hover {\n",
       "          background-color: #ffff99;\n",
       "    }    #T_592a9c0a_4f76_11e8_8cc2_0025904f36cb th {\n",
       "          font-size: 150%;\n",
       "          text-align: center;\n",
       "    }    #T_592a9c0a_4f76_11e8_8cc2_0025904f36cb caption {\n",
       "          caption-side: bottom;\n",
       "    }</style>  \n",
       "<table id=\"T_592a9c0a_4f76_11e8_8cc2_0025904f36cb\" > \n",
       "<thead>    <tr> \n",
       "        <th class=\"blank level0\" ></th> \n",
       "        <th class=\"col_heading level0 col0\" colspan=2>Logistic Regression</th> \n",
       "        <th class=\"col_heading level0 col2\" colspan=2>Support Vector Machine</th> \n",
       "    </tr>    <tr> \n",
       "        <th class=\"index_name level1\" >Class</th> \n",
       "        <th class=\"col_heading level1 col0\" >0</th> \n",
       "        <th class=\"col_heading level1 col1\" >1</th> \n",
       "        <th class=\"col_heading level1 col2\" >0</th> \n",
       "        <th class=\"col_heading level1 col3\" >1</th> \n",
       "    </tr></thead> \n",
       "<tbody>    <tr> \n",
       "        <th id=\"T_592a9c0a_4f76_11e8_8cc2_0025904f36cblevel0_row0\" class=\"row_heading level0 row0\" >F1 score</th> \n",
       "        <td id=\"T_592a9c0a_4f76_11e8_8cc2_0025904f36cbrow0_col0\" class=\"data row0 col0\" >0.942272</td> \n",
       "        <td id=\"T_592a9c0a_4f76_11e8_8cc2_0025904f36cbrow0_col1\" class=\"data row0 col1\" >0.919481</td> \n",
       "        <td id=\"T_592a9c0a_4f76_11e8_8cc2_0025904f36cbrow0_col2\" class=\"data row0 col2\" >0.942272</td> \n",
       "        <td id=\"T_592a9c0a_4f76_11e8_8cc2_0025904f36cbrow0_col3\" class=\"data row0 col3\" >0.919481</td> \n",
       "    </tr>    <tr> \n",
       "        <th id=\"T_592a9c0a_4f76_11e8_8cc2_0025904f36cblevel0_row1\" class=\"row_heading level0 row1\" >Precision</th> \n",
       "        <td id=\"T_592a9c0a_4f76_11e8_8cc2_0025904f36cbrow1_col0\" class=\"data row1 col0\" >0.923358</td> \n",
       "        <td id=\"T_592a9c0a_4f76_11e8_8cc2_0025904f36cbrow1_col1\" class=\"data row1 col1\" >0.946524</td> \n",
       "        <td id=\"T_592a9c0a_4f76_11e8_8cc2_0025904f36cbrow1_col2\" class=\"data row1 col2\" >0.923358</td> \n",
       "        <td id=\"T_592a9c0a_4f76_11e8_8cc2_0025904f36cbrow1_col3\" class=\"data row1 col3\" >0.946524</td> \n",
       "    </tr>    <tr> \n",
       "        <th id=\"T_592a9c0a_4f76_11e8_8cc2_0025904f36cblevel0_row2\" class=\"row_heading level0 row2\" >Recall</th> \n",
       "        <td id=\"T_592a9c0a_4f76_11e8_8cc2_0025904f36cbrow2_col0\" class=\"data row2 col0\" >0.961977</td> \n",
       "        <td id=\"T_592a9c0a_4f76_11e8_8cc2_0025904f36cbrow2_col1\" class=\"data row2 col1\" >0.893939</td> \n",
       "        <td id=\"T_592a9c0a_4f76_11e8_8cc2_0025904f36cbrow2_col2\" class=\"data row2 col2\" >0.961977</td> \n",
       "        <td id=\"T_592a9c0a_4f76_11e8_8cc2_0025904f36cbrow2_col3\" class=\"data row2 col3\" >0.893939</td> \n",
       "    </tr></tbody> \n",
       "</table> "
      ],
      "text/plain": [
       "<pandas.io.formats.style.Styler at 0x7f428a4134e0>"
      ]
     },
     "execution_count": 37,
     "metadata": {},
     "output_type": "execute_result"
    }
   ],
   "source": [
    "metrics_table"
   ]
  },
  {
   "cell_type": "code",
   "execution_count": 38,
   "metadata": {},
   "outputs": [
    {
     "data": {
      "text/html": [
       "<style  type=\"text/css\" >\n",
       "    #T_592a9c0b_4f76_11e8_8cc2_0025904f36cb tr:hover {\n",
       "          background-color: #ffff99;\n",
       "    }    #T_592a9c0b_4f76_11e8_8cc2_0025904f36cb th {\n",
       "          font-size: 150%;\n",
       "          text-align: center;\n",
       "    }    #T_592a9c0b_4f76_11e8_8cc2_0025904f36cb caption {\n",
       "          caption-side: bottom;\n",
       "    }</style>  \n",
       "<table id=\"T_592a9c0b_4f76_11e8_8cc2_0025904f36cb\" > \n",
       "<thead>    <tr> \n",
       "        <th class=\"blank level0\" ></th> \n",
       "        <th class=\"col_heading level0 col0\" >word_freq_hp</th> \n",
       "        <th class=\"col_heading level0 col1\" >char_freq_$</th> \n",
       "    </tr></thead> \n",
       "<tbody>    <tr> \n",
       "        <th id=\"T_592a9c0b_4f76_11e8_8cc2_0025904f36cblevel0_row0\" class=\"row_heading level0 row0\" >Logistic Regression</th> \n",
       "        <td id=\"T_592a9c0b_4f76_11e8_8cc2_0025904f36cbrow0_col0\" class=\"data row0 col0\" >-2.71011</td> \n",
       "        <td id=\"T_592a9c0b_4f76_11e8_8cc2_0025904f36cbrow0_col1\" class=\"data row0 col1\" >1.69302</td> \n",
       "    </tr>    <tr> \n",
       "        <th id=\"T_592a9c0b_4f76_11e8_8cc2_0025904f36cblevel0_row1\" class=\"row_heading level0 row1\" >Support Vector Machine</th> \n",
       "        <td id=\"T_592a9c0b_4f76_11e8_8cc2_0025904f36cbrow1_col0\" class=\"data row1 col0\" >-2.1047</td> \n",
       "        <td id=\"T_592a9c0b_4f76_11e8_8cc2_0025904f36cbrow1_col1\" class=\"data row1 col1\" >1.2211</td> \n",
       "    </tr></tbody> \n",
       "</table> "
      ],
      "text/plain": [
       "<pandas.io.formats.style.Styler at 0x7f428a413518>"
      ]
     },
     "execution_count": 38,
     "metadata": {},
     "output_type": "execute_result"
    }
   ],
   "source": [
    "coef_table"
   ]
  },
  {
   "cell_type": "markdown",
   "metadata": {},
   "source": [
    "- How does a linear SVM relate to Logistic Regression? <br>\n",
    "_Hint_: Consider the\n",
    "classification boundary learnt in each model."
   ]
  },
  {
   "cell_type": "markdown",
   "metadata": {},
   "source": [
    "For linear kernel, the decision boundary is y = w * x + b, the distance from point x to the decision boundary is y/||w||."
   ]
  },
  {
   "cell_type": "code",
   "execution_count": 129,
   "metadata": {},
   "outputs": [
    {
     "data": {
      "image/png": "[encoded data removed]",
      "text/plain": [
       "<Figure size 1080x720 with 1 Axes>"
      ]
     },
     "metadata": {},
     "output_type": "display_data"
    }
   ],
   "source": [
    "log_regr_y = log_regr_model.decision_function(x_train)\n",
    "log_regr_w_norm = np.linalg.norm(log_regr_model.coef_)\n",
    "log_regr_x = (log_regr_y - log_regr_model.intercept_)/ log_regr_w_norm\n",
    "\n",
    "svm_y = svm_model.decision_function(x_train)\n",
    "svm_w_norm = np.linalg.norm(svm_model.coef_)\n",
    "svm_x = (svm_y - svm_model.intercept_)/ svm_w_norm\n",
    "\n",
    "plt.plot(log_regr_x, log_regr_y, label='Logistic Regression')\n",
    "plt.plot(svm_x, svm_y, label='SVM')\n",
    "plt.title('Decision boundaries')\n",
    "plt.legend()\n",
    "plt.show()"
   ]
  },
  {
   "cell_type": "code",
   "execution_count": 139,
   "metadata": {},
   "outputs": [
    {
     "data": {
      "image/png": "[encoded data removed]",
      "text/plain": [
       "<Figure size 1080x720 with 2 Axes>"
      ]
     },
     "metadata": {},
     "output_type": "display_data"
    }
   ],
   "source": [
    "from itertools import product\n",
    "\n",
    "X = np.array(x_train[['word_freq_hp', 'char_freq_$']])\n",
    "y = np.array(y_train)\n",
    "\n",
    "# Training classifiers\n",
    "clf1 = LogisticRegression()\n",
    "clf2 = SVC(kernel='linear', probability=True)\n",
    "\n",
    "clf1.fit(X, y)\n",
    "clf2.fit(X, y)\n",
    "\n",
    "# Plotting decision regions\n",
    "x_min, x_max = X[:, 0].min() - 1, X[:, 0].max() + 1\n",
    "y_min, y_max = X[:, 1].min() - 1, X[:, 1].max() + 1\n",
    "xx, yy = np.meshgrid(np.arange(x_min, x_max, 0.01),\n",
    "                     np.arange(y_min, y_max, 0.01))\n",
    "\n",
    "f, axarr = plt.subplots(1, 2, sharex='col', sharey='row')\n",
    "\n",
    "for idx, clf, tt in zip(product([0, 1]), [clf1, clf2], ['LogisticRegression', 'SVM with linear kernel']):\n",
    "    Z = clf.predict(np.c_[xx.ravel(), yy.ravel()])\n",
    "    Z = Z.reshape(xx.shape)\n",
    "\n",
    "    axarr[idx[0]].contourf(xx, yy, Z, alpha=0.4)\n",
    "    axarr[idx[0]].scatter(X[:, 0], X[:, 1], c=y, s=50, edgecolor='k')\n",
    "    axarr[idx[0]].set_title(tt)\n",
    "\n",
    "plt.show()"
   ]
  },
  {
   "cell_type": "markdown",
   "metadata": {},
   "source": [
    "##  PERFORMANCE ASSESSMENT #1"
   ]
  },
  {
   "cell_type": "code",
   "execution_count": 252,
   "metadata": {},
   "outputs": [],
   "source": [
    "train, _ = arff.loadarff('data/raw/splice_train.arff.txt')\n",
    "test, _ = arff.loadarff('data/raw/splice_test.arff.txt')\n",
    "\n",
    "train = pd.DataFrame(train)\n",
    "test = pd.DataFrame(test)"
   ]
  },
  {
   "cell_type": "code",
   "execution_count": 253,
   "metadata": {},
   "outputs": [],
   "source": [
    "train = [train[col].str.decode('utf-8') for col in train.columns]\n",
    "train = pd.DataFrame(train).T\n",
    "\n",
    "test = [test[col].str.decode('utf-8') for col in test.columns]\n",
    "test = pd.DataFrame(test).T"
   ]
  },
  {
   "cell_type": "code",
   "execution_count": 286,
   "metadata": {},
   "outputs": [],
   "source": [
    "train = train.apply(lambda x: x.astype('category'))\n",
    "train = train.apply(lambda x: x.cat.codes)"
   ]
  },
  {
   "cell_type": "code",
   "execution_count": null,
   "metadata": {},
   "outputs": [],
   "source": [
    "train"
   ]
  },
  {
   "cell_type": "code",
   "execution_count": 254,
   "metadata": {},
   "outputs": [],
   "source": [
    "y_train = train.pop('class')\n",
    "x_train = train\n",
    "y_test = test.pop('class')\n",
    "x_test = test"
   ]
  },
  {
   "cell_type": "code",
   "execution_count": null,
   "metadata": {},
   "outputs": [],
   "source": []
  },
  {
   "cell_type": "markdown",
   "metadata": {},
   "source": [
    "###  K-nearest neighbour"
   ]
  },
  {
   "cell_type": "code",
   "execution_count": 287,
   "metadata": {},
   "outputs": [],
   "source": [
    "# https://kevinzakka.github.io/2016/07/13/k-nearest-neighbor/"
   ]
  },
  {
   "cell_type": "code",
   "execution_count": 256,
   "metadata": {},
   "outputs": [
    {
     "ename": "ValueError",
     "evalue": "could not convert string to float: 'T'",
     "output_type": "error",
     "traceback": [
      "\u001b[0;31m---------------------------------------------------------------------------\u001b[0m",
      "\u001b[0;31mValueError\u001b[0m                                Traceback (most recent call last)",
      "\u001b[0;32m<ipython-input-256-9a1ada879f28>\u001b[0m in \u001b[0;36m<module>\u001b[0;34m()\u001b[0m\n\u001b[1;32m      1\u001b[0m \u001b[0mknn_model\u001b[0m \u001b[0;34m=\u001b[0m \u001b[0mKNeighborsClassifier\u001b[0m\u001b[0;34m(\u001b[0m\u001b[0mn_neighbors\u001b[0m\u001b[0;34m=\u001b[0m\u001b[0;36m1\u001b[0m\u001b[0;34m)\u001b[0m\u001b[0;34m\u001b[0m\u001b[0m\n\u001b[0;32m----> 2\u001b[0;31m \u001b[0mknn_model\u001b[0m\u001b[0;34m.\u001b[0m\u001b[0mfit\u001b[0m\u001b[0;34m(\u001b[0m\u001b[0mx_train\u001b[0m\u001b[0;34m,\u001b[0m \u001b[0my_train\u001b[0m\u001b[0;34m)\u001b[0m\u001b[0;34m\u001b[0m\u001b[0m\n\u001b[0m",
      "\u001b[0;32m~/.venvs/deep_traiding/lib/python3.5/site-packages/sklearn/neighbors/base.py\u001b[0m in \u001b[0;36mfit\u001b[0;34m(self, X, y)\u001b[0m\n\u001b[1;32m    763\u001b[0m         \"\"\"\n\u001b[1;32m    764\u001b[0m         \u001b[0;32mif\u001b[0m \u001b[0;32mnot\u001b[0m \u001b[0misinstance\u001b[0m\u001b[0;34m(\u001b[0m\u001b[0mX\u001b[0m\u001b[0;34m,\u001b[0m \u001b[0;34m(\u001b[0m\u001b[0mKDTree\u001b[0m\u001b[0;34m,\u001b[0m \u001b[0mBallTree\u001b[0m\u001b[0;34m)\u001b[0m\u001b[0;34m)\u001b[0m\u001b[0;34m:\u001b[0m\u001b[0;34m\u001b[0m\u001b[0m\n\u001b[0;32m--> 765\u001b[0;31m             \u001b[0mX\u001b[0m\u001b[0;34m,\u001b[0m \u001b[0my\u001b[0m \u001b[0;34m=\u001b[0m \u001b[0mcheck_X_y\u001b[0m\u001b[0;34m(\u001b[0m\u001b[0mX\u001b[0m\u001b[0;34m,\u001b[0m \u001b[0my\u001b[0m\u001b[0;34m,\u001b[0m \u001b[0;34m\"csr\"\u001b[0m\u001b[0;34m,\u001b[0m \u001b[0mmulti_output\u001b[0m\u001b[0;34m=\u001b[0m\u001b[0;32mTrue\u001b[0m\u001b[0;34m)\u001b[0m\u001b[0;34m\u001b[0m\u001b[0m\n\u001b[0m\u001b[1;32m    766\u001b[0m \u001b[0;34m\u001b[0m\u001b[0m\n\u001b[1;32m    767\u001b[0m         \u001b[0;32mif\u001b[0m \u001b[0my\u001b[0m\u001b[0;34m.\u001b[0m\u001b[0mndim\u001b[0m \u001b[0;34m==\u001b[0m \u001b[0;36m1\u001b[0m \u001b[0;32mor\u001b[0m \u001b[0my\u001b[0m\u001b[0;34m.\u001b[0m\u001b[0mndim\u001b[0m \u001b[0;34m==\u001b[0m \u001b[0;36m2\u001b[0m \u001b[0;32mand\u001b[0m \u001b[0my\u001b[0m\u001b[0;34m.\u001b[0m\u001b[0mshape\u001b[0m\u001b[0;34m[\u001b[0m\u001b[0;36m1\u001b[0m\u001b[0;34m]\u001b[0m \u001b[0;34m==\u001b[0m \u001b[0;36m1\u001b[0m\u001b[0;34m:\u001b[0m\u001b[0;34m\u001b[0m\u001b[0m\n",
      "\u001b[0;32m~/.venvs/deep_traiding/lib/python3.5/site-packages/sklearn/utils/validation.py\u001b[0m in \u001b[0;36mcheck_X_y\u001b[0;34m(X, y, accept_sparse, dtype, order, copy, force_all_finite, ensure_2d, allow_nd, multi_output, ensure_min_samples, ensure_min_features, y_numeric, warn_on_dtype, estimator)\u001b[0m\n\u001b[1;32m    571\u001b[0m     X = check_array(X, accept_sparse, dtype, order, copy, force_all_finite,\n\u001b[1;32m    572\u001b[0m                     \u001b[0mensure_2d\u001b[0m\u001b[0;34m,\u001b[0m \u001b[0mallow_nd\u001b[0m\u001b[0;34m,\u001b[0m \u001b[0mensure_min_samples\u001b[0m\u001b[0;34m,\u001b[0m\u001b[0;34m\u001b[0m\u001b[0m\n\u001b[0;32m--> 573\u001b[0;31m                     ensure_min_features, warn_on_dtype, estimator)\n\u001b[0m\u001b[1;32m    574\u001b[0m     \u001b[0;32mif\u001b[0m \u001b[0mmulti_output\u001b[0m\u001b[0;34m:\u001b[0m\u001b[0;34m\u001b[0m\u001b[0m\n\u001b[1;32m    575\u001b[0m         y = check_array(y, 'csr', force_all_finite=True, ensure_2d=False,\n",
      "\u001b[0;32m~/.venvs/deep_traiding/lib/python3.5/site-packages/sklearn/utils/validation.py\u001b[0m in \u001b[0;36mcheck_array\u001b[0;34m(array, accept_sparse, dtype, order, copy, force_all_finite, ensure_2d, allow_nd, ensure_min_samples, ensure_min_features, warn_on_dtype, estimator)\u001b[0m\n\u001b[1;32m    446\u001b[0m         \u001b[0;31m# make sure we actually converted to numeric:\u001b[0m\u001b[0;34m\u001b[0m\u001b[0;34m\u001b[0m\u001b[0m\n\u001b[1;32m    447\u001b[0m         \u001b[0;32mif\u001b[0m \u001b[0mdtype_numeric\u001b[0m \u001b[0;32mand\u001b[0m \u001b[0marray\u001b[0m\u001b[0;34m.\u001b[0m\u001b[0mdtype\u001b[0m\u001b[0;34m.\u001b[0m\u001b[0mkind\u001b[0m \u001b[0;34m==\u001b[0m \u001b[0;34m\"O\"\u001b[0m\u001b[0;34m:\u001b[0m\u001b[0;34m\u001b[0m\u001b[0m\n\u001b[0;32m--> 448\u001b[0;31m             \u001b[0marray\u001b[0m \u001b[0;34m=\u001b[0m \u001b[0marray\u001b[0m\u001b[0;34m.\u001b[0m\u001b[0mastype\u001b[0m\u001b[0;34m(\u001b[0m\u001b[0mnp\u001b[0m\u001b[0;34m.\u001b[0m\u001b[0mfloat64\u001b[0m\u001b[0;34m)\u001b[0m\u001b[0;34m\u001b[0m\u001b[0m\n\u001b[0m\u001b[1;32m    449\u001b[0m         \u001b[0;32mif\u001b[0m \u001b[0;32mnot\u001b[0m \u001b[0mallow_nd\u001b[0m \u001b[0;32mand\u001b[0m \u001b[0marray\u001b[0m\u001b[0;34m.\u001b[0m\u001b[0mndim\u001b[0m \u001b[0;34m>=\u001b[0m \u001b[0;36m3\u001b[0m\u001b[0;34m:\u001b[0m\u001b[0;34m\u001b[0m\u001b[0m\n\u001b[1;32m    450\u001b[0m             raise ValueError(\"Found array with dim %d. %s expected <= 2.\"\n",
      "\u001b[0;31mValueError\u001b[0m: could not convert string to float: 'T'"
     ]
    }
   ],
   "source": [
    "knn_model = KNeighborsClassifier(n_neighbors=1)\n",
    "knn_model.fit(x_train, y_train) "
   ]
  },
  {
   "cell_type": "markdown",
   "metadata": {},
   "source": [
    "- What is the classification accuracy?"
   ]
  },
  {
   "cell_type": "markdown",
   "metadata": {},
   "source": [
    "On train set:"
   ]
  },
  {
   "cell_type": "code",
   "execution_count": 245,
   "metadata": {},
   "outputs": [],
   "source": [
    "knn_pred = knn_model.predict(x_train)"
   ]
  },
  {
   "cell_type": "code",
   "execution_count": 251,
   "metadata": {},
   "outputs": [
    {
     "data": {
      "text/plain": [
       "array([0, 1])"
      ]
     },
     "execution_count": 251,
     "metadata": {},
     "output_type": "execute_result"
    }
   ],
   "source": [
    "np.unique(y_train)"
   ]
  },
  {
   "cell_type": "code",
   "execution_count": 220,
   "metadata": {},
   "outputs": [
    {
     "name": "stdout",
     "output_type": "stream",
     "text": [
      "Score: 0.9881642512077294\n"
     ]
    }
   ],
   "source": [
    "knn_score = knn_model.score(x_train, y_train) # score = correct predictions / total number of data points\n",
    "print('Score: {}'.format(knn_score))"
   ]
  },
  {
   "cell_type": "code",
   "execution_count": 221,
   "metadata": {},
   "outputs": [
    {
     "data": {
      "image/png": "[encoded data removed]",
      "text/plain": [
       "<Figure size 1080x720 with 2 Axes>"
      ]
     },
     "metadata": {},
     "output_type": "display_data"
    }
   ],
   "source": [
    "knn_conf_matrix = metrics.confusion_matrix(y_train, knn_pred)\n",
    "sns.heatmap(knn_conf_matrix, annot=True, fmt=\"d\")\n",
    "plt.ylabel('True label', size=20)\n",
    "plt.xlabel('Predicted label', size=20)\n",
    "plt.title('Confusion matrix', size=26)\n",
    "plt.show()"
   ]
  },
  {
   "cell_type": "code",
   "execution_count": 222,
   "metadata": {},
   "outputs": [
    {
     "data": {
      "text/html": [
       "<style  type=\"text/css\" >\n",
       "    #T_fd341a04_4f8f_11e8_8cc2_0025904f36cb tr:hover {\n",
       "          background-color: #ffff99;\n",
       "    }    #T_fd341a04_4f8f_11e8_8cc2_0025904f36cb th {\n",
       "          font-size: 150%;\n",
       "          text-align: center;\n",
       "    }    #T_fd341a04_4f8f_11e8_8cc2_0025904f36cb caption {\n",
       "          caption-side: bottom;\n",
       "    }</style>  \n",
       "<table id=\"T_fd341a04_4f8f_11e8_8cc2_0025904f36cb\" ><caption>Hover to highlight.</caption> \n",
       "<thead>    <tr> \n",
       "        <th class=\"blank level0\" ></th> \n",
       "        <th class=\"col_heading level0 col0\" >Precision</th> \n",
       "        <th class=\"col_heading level0 col1\" >Recall</th> \n",
       "        <th class=\"col_heading level0 col2\" >F1 score</th> \n",
       "        <th class=\"col_heading level0 col3\" >Support</th> \n",
       "    </tr></thead> \n",
       "<tbody>    <tr> \n",
       "        <th id=\"T_fd341a04_4f8f_11e8_8cc2_0025904f36cblevel0_row0\" class=\"row_heading level0 row0\" >0</th> \n",
       "        <td id=\"T_fd341a04_4f8f_11e8_8cc2_0025904f36cbrow0_col0\" class=\"data row0 col0\" >0.99166</td> \n",
       "        <td id=\"T_fd341a04_4f8f_11e8_8cc2_0025904f36cbrow0_col1\" class=\"data row0 col1\" >0.988911</td> \n",
       "        <td id=\"T_fd341a04_4f8f_11e8_8cc2_0025904f36cbrow0_col2\" class=\"data row0 col2\" >0.990284</td> \n",
       "        <td id=\"T_fd341a04_4f8f_11e8_8cc2_0025904f36cbrow0_col3\" class=\"data row0 col3\" >2525</td> \n",
       "    </tr>    <tr> \n",
       "        <th id=\"T_fd341a04_4f8f_11e8_8cc2_0025904f36cblevel0_row1\" class=\"row_heading level0 row1\" >1</th> \n",
       "        <td id=\"T_fd341a04_4f8f_11e8_8cc2_0025904f36cbrow1_col0\" class=\"data row1 col0\" >0.982737</td> \n",
       "        <td id=\"T_fd341a04_4f8f_11e8_8cc2_0025904f36cbrow1_col1\" class=\"data row1 col1\" >0.986997</td> \n",
       "        <td id=\"T_fd341a04_4f8f_11e8_8cc2_0025904f36cbrow1_col2\" class=\"data row1 col2\" >0.984863</td> \n",
       "        <td id=\"T_fd341a04_4f8f_11e8_8cc2_0025904f36cbrow1_col3\" class=\"data row1 col3\" >1615</td> \n",
       "    </tr></tbody> \n",
       "</table> "
      ],
      "text/plain": [
       "<pandas.io.formats.style.Styler at 0x7f428a4a8e48>"
      ]
     },
     "execution_count": 222,
     "metadata": {},
     "output_type": "execute_result"
    }
   ],
   "source": [
    "knn_prfs_score = metrics.precision_recall_fscore_support(y_train, knn_pred)\n",
    "knn_df = pd.DataFrame(data={'Precision': knn_prfs_score[0], 'Recall': knn_prfs_score[1], \n",
    "                            'F1 score': knn_prfs_score[2], 'Support': knn_prfs_score[3]},\n",
    "                      columns=['Precision', 'Recall', 'F1 score', 'Support'], index=[0, 1])\n",
    "\n",
    "html = (knn_df.style.set_table_styles(styles).set_caption(\"Hover to highlight.\"))\n",
    "html"
   ]
  },
  {
   "cell_type": "code",
   "execution_count": 223,
   "metadata": {},
   "outputs": [
    {
     "data": {
      "image/png": "[encoded data removed]",
      "text/plain": [
       "<Figure size 1080x720 with 1 Axes>"
      ]
     },
     "metadata": {},
     "output_type": "display_data"
    }
   ],
   "source": [
    "knn_average_precision = metrics.average_precision_score(y_train, knn_pred)\n",
    "knn_precision, knn_recall, _ = metrics.precision_recall_curve(y_train, knn_pred)\n",
    "\n",
    "plt.step(knn_recall, knn_precision, color='b', alpha=0.2, where='post')\n",
    "plt.fill_between(knn_recall, knn_precision, step='post', alpha=0.2, color='b')\n",
    "\n",
    "plt.xlabel('Recall')\n",
    "plt.ylabel('Precision')\n",
    "plt.ylim([0.0, 1.05])\n",
    "plt.xlim([0.0, 1.05])\n",
    "plt.title('2-class Precision-Recall curve: AP={0:0.2f}'.format(knn_average_precision))\n",
    "plt.show()"
   ]
  },
  {
   "cell_type": "markdown",
   "metadata": {},
   "source": [
    "On test set:"
   ]
  },
  {
   "cell_type": "code",
   "execution_count": 224,
   "metadata": {},
   "outputs": [],
   "source": [
    "knn_pred = knn_model.predict(x_test)"
   ]
  },
  {
   "cell_type": "code",
   "execution_count": 225,
   "metadata": {},
   "outputs": [
    {
     "name": "stdout",
     "output_type": "stream",
     "text": [
      "Score: 0.913232104121475\n"
     ]
    }
   ],
   "source": [
    "knn_score = knn_model.score(x_test, y_test) # score = correct predictions / total number of data points\n",
    "print('Score: {}'.format(knn_score))"
   ]
  },
  {
   "cell_type": "code",
   "execution_count": 226,
   "metadata": {},
   "outputs": [
    {
     "data": {
      "image/png": "[encoded data removed]",
      "text/plain": [
       "<Figure size 1080x720 with 2 Axes>"
      ]
     },
     "metadata": {},
     "output_type": "display_data"
    }
   ],
   "source": [
    "knn_conf_matrix = metrics.confusion_matrix(y_test, knn_pred)\n",
    "sns.heatmap(knn_conf_matrix, annot=True, fmt=\"d\")\n",
    "plt.ylabel('True label', size=20)\n",
    "plt.xlabel('Predicted label', size=20)\n",
    "plt.title('Confusion matrix', size=26)\n",
    "plt.show()"
   ]
  },
  {
   "cell_type": "code",
   "execution_count": 243,
   "metadata": {},
   "outputs": [
    {
     "data": {
      "text/html": [
       "<style  type=\"text/css\" >\n",
       "    #T_a48a0844_4f96_11e8_8cc2_0025904f36cb tr:hover {\n",
       "          background-color: #ffff99;\n",
       "    }    #T_a48a0844_4f96_11e8_8cc2_0025904f36cb th {\n",
       "          font-size: 150%;\n",
       "          text-align: center;\n",
       "    }    #T_a48a0844_4f96_11e8_8cc2_0025904f36cb caption {\n",
       "          caption-side: bottom;\n",
       "    }</style>  \n",
       "<table id=\"T_a48a0844_4f96_11e8_8cc2_0025904f36cb\" ><caption>Hover to highlight.</caption> \n",
       "<thead>    <tr> \n",
       "        <th class=\"blank level0\" ></th> \n",
       "        <th class=\"col_heading level0 col0\" >Precision</th> \n",
       "        <th class=\"col_heading level0 col1\" >Recall</th> \n",
       "        <th class=\"col_heading level0 col2\" >F1 score</th> \n",
       "        <th class=\"col_heading level0 col3\" >Support</th> \n",
       "    </tr></thead> \n",
       "<tbody>    <tr> \n",
       "        <th id=\"T_a48a0844_4f96_11e8_8cc2_0025904f36cblevel0_row0\" class=\"row_heading level0 row0\" >0</th> \n",
       "        <td id=\"T_a48a0844_4f96_11e8_8cc2_0025904f36cbrow0_col0\" class=\"data row0 col0\" >0.776758</td> \n",
       "        <td id=\"T_a48a0844_4f96_11e8_8cc2_0025904f36cbrow0_col1\" class=\"data row0 col1\" >0.965779</td> \n",
       "        <td id=\"T_a48a0844_4f96_11e8_8cc2_0025904f36cbrow0_col2\" class=\"data row0 col2\" >0.861017</td> \n",
       "        <td id=\"T_a48a0844_4f96_11e8_8cc2_0025904f36cbrow0_col3\" class=\"data row0 col3\" >263</td> \n",
       "    </tr>    <tr> \n",
       "        <th id=\"T_a48a0844_4f96_11e8_8cc2_0025904f36cblevel0_row1\" class=\"row_heading level0 row1\" >1</th> \n",
       "        <td id=\"T_a48a0844_4f96_11e8_8cc2_0025904f36cbrow1_col0\" class=\"data row1 col0\" >0.932836</td> \n",
       "        <td id=\"T_a48a0844_4f96_11e8_8cc2_0025904f36cbrow1_col1\" class=\"data row1 col1\" >0.631313</td> \n",
       "        <td id=\"T_a48a0844_4f96_11e8_8cc2_0025904f36cbrow1_col2\" class=\"data row1 col2\" >0.753012</td> \n",
       "        <td id=\"T_a48a0844_4f96_11e8_8cc2_0025904f36cbrow1_col3\" class=\"data row1 col3\" >198</td> \n",
       "    </tr></tbody> \n",
       "</table> "
      ],
      "text/plain": [
       "<pandas.io.formats.style.Styler at 0x7f427e5b0748>"
      ]
     },
     "execution_count": 243,
     "metadata": {},
     "output_type": "execute_result"
    }
   ],
   "source": [
    "knn_prfs_score = metrics.precision_recall_fscore_support(y_test, knn_pred)\n",
    "knn_df = pd.DataFrame(data={'Precision': knn_prfs_score[0], 'Recall': knn_prfs_score[1], \n",
    "                            'F1 score': knn_prfs_score[2], 'Support': knn_prfs_score[3]},\n",
    "                      columns=['Precision', 'Recall', 'F1 score', 'Support'], index=[0, 1])\n",
    "\n",
    "html = (knn_df.style.set_table_styles(styles).set_caption(\"Hover to highlight.\"))\n",
    "html"
   ]
  },
  {
   "cell_type": "code",
   "execution_count": 228,
   "metadata": {},
   "outputs": [
    {
     "data": {
      "image/png": "[encoded data removed]",
      "text/plain": [
       "<Figure size 1080x720 with 1 Axes>"
      ]
     },
     "metadata": {},
     "output_type": "display_data"
    }
   ],
   "source": [
    "knn_average_precision = metrics.average_precision_score(y_test, knn_pred)\n",
    "knn_precision, knn_recall, _ = metrics.precision_recall_curve(y_test, knn_pred)\n",
    "\n",
    "plt.step(knn_recall, knn_precision, color='b', alpha=0.2, where='post')\n",
    "plt.fill_between(knn_recall, knn_precision, step='post', alpha=0.2, color='b')\n",
    "\n",
    "plt.xlabel('Recall')\n",
    "plt.ylabel('Precision')\n",
    "plt.ylim([0.0, 1.05])\n",
    "plt.xlim([0.0, 1.05])\n",
    "plt.title('2-class Precision-Recall curve: AP={0:0.2f}'.format(knn_average_precision))\n",
    "plt.show()"
   ]
  },
  {
   "cell_type": "markdown",
   "metadata": {},
   "source": [
    "- What would be the accuracy of the classifier, if all points were labelled as N? <br>\n",
    "_Hint_: View the distribution of the class attribute of the test data. You can do\n",
    "this by loading the test data on the Preprocess tab, and selecting\n",
    "the class attribute in the Attributes panel."
   ]
  },
  {
   "cell_type": "code",
   "execution_count": 237,
   "metadata": {},
   "outputs": [
    {
     "data": {
      "image/png": "[encoded data removed]",
      "text/plain": [
       "<Figure size 1080x720 with 1 Axes>"
      ]
     },
     "metadata": {},
     "output_type": "display_data"
    }
   ],
   "source": [
    "sns.countplot(x='class', data=test, palette=\"Greens_d\");"
   ]
  },
  {
   "cell_type": "markdown",
   "metadata": {},
   "source": [
    "Train KNN for 5, 10, 100, 1000 and 10000 neighbours."
   ]
  },
  {
   "cell_type": "code",
   "execution_count": 242,
   "metadata": {},
   "outputs": [
    {
     "name": "stdout",
     "output_type": "stream",
     "text": [
      "Neighbours amount: 5   Score: 0.9219088937093276\n"
     ]
    },
    {
     "data": {
      "text/html": [
       "<style  type=\"text/css\" >\n",
       "    #T_7ed985fc_4f96_11e8_8cc2_0025904f36cb tr:hover {\n",
       "          background-color: #ffff99;\n",
       "    }    #T_7ed985fc_4f96_11e8_8cc2_0025904f36cb th {\n",
       "          font-size: 150%;\n",
       "          text-align: center;\n",
       "    }    #T_7ed985fc_4f96_11e8_8cc2_0025904f36cb caption {\n",
       "          caption-side: bottom;\n",
       "    }</style>  \n",
       "<table id=\"T_7ed985fc_4f96_11e8_8cc2_0025904f36cb\" > \n",
       "<thead>    <tr> \n",
       "        <th class=\"blank level0\" ></th> \n",
       "        <th class=\"col_heading level0 col0\" >Precision</th> \n",
       "        <th class=\"col_heading level0 col1\" >Recall</th> \n",
       "        <th class=\"col_heading level0 col2\" >F1 score</th> \n",
       "        <th class=\"col_heading level0 col3\" >Support</th> \n",
       "    </tr></thead> \n",
       "<tbody>    <tr> \n",
       "        <th id=\"T_7ed985fc_4f96_11e8_8cc2_0025904f36cblevel0_row0\" class=\"row_heading level0 row0\" >0</th> \n",
       "        <td id=\"T_7ed985fc_4f96_11e8_8cc2_0025904f36cbrow0_col0\" class=\"data row0 col0\" >0.931559</td> \n",
       "        <td id=\"T_7ed985fc_4f96_11e8_8cc2_0025904f36cbrow0_col1\" class=\"data row0 col1\" >0.931559</td> \n",
       "        <td id=\"T_7ed985fc_4f96_11e8_8cc2_0025904f36cbrow0_col2\" class=\"data row0 col2\" >0.931559</td> \n",
       "        <td id=\"T_7ed985fc_4f96_11e8_8cc2_0025904f36cbrow0_col3\" class=\"data row0 col3\" >263</td> \n",
       "    </tr>    <tr> \n",
       "        <th id=\"T_7ed985fc_4f96_11e8_8cc2_0025904f36cblevel0_row1\" class=\"row_heading level0 row1\" >1</th> \n",
       "        <td id=\"T_7ed985fc_4f96_11e8_8cc2_0025904f36cbrow1_col0\" class=\"data row1 col0\" >0.909091</td> \n",
       "        <td id=\"T_7ed985fc_4f96_11e8_8cc2_0025904f36cbrow1_col1\" class=\"data row1 col1\" >0.909091</td> \n",
       "        <td id=\"T_7ed985fc_4f96_11e8_8cc2_0025904f36cbrow1_col2\" class=\"data row1 col2\" >0.909091</td> \n",
       "        <td id=\"T_7ed985fc_4f96_11e8_8cc2_0025904f36cbrow1_col3\" class=\"data row1 col3\" >198</td> \n",
       "    </tr></tbody> \n",
       "</table> "
      ],
      "text/plain": [
       "<pandas.io.formats.style.Styler at 0x7f428876b550>"
      ]
     },
     "metadata": {},
     "output_type": "display_data"
    },
    {
     "name": "stdout",
     "output_type": "stream",
     "text": [
      "Neighbours amount: 10   Score: 0.9002169197396963\n"
     ]
    },
    {
     "data": {
      "text/html": [
       "<style  type=\"text/css\" >\n",
       "    #T_7ed985fd_4f96_11e8_8cc2_0025904f36cb tr:hover {\n",
       "          background-color: #ffff99;\n",
       "    }    #T_7ed985fd_4f96_11e8_8cc2_0025904f36cb th {\n",
       "          font-size: 150%;\n",
       "          text-align: center;\n",
       "    }    #T_7ed985fd_4f96_11e8_8cc2_0025904f36cb caption {\n",
       "          caption-side: bottom;\n",
       "    }</style>  \n",
       "<table id=\"T_7ed985fd_4f96_11e8_8cc2_0025904f36cb\" > \n",
       "<thead>    <tr> \n",
       "        <th class=\"blank level0\" ></th> \n",
       "        <th class=\"col_heading level0 col0\" >Precision</th> \n",
       "        <th class=\"col_heading level0 col1\" >Recall</th> \n",
       "        <th class=\"col_heading level0 col2\" >F1 score</th> \n",
       "        <th class=\"col_heading level0 col3\" >Support</th> \n",
       "    </tr></thead> \n",
       "<tbody>    <tr> \n",
       "        <th id=\"T_7ed985fd_4f96_11e8_8cc2_0025904f36cblevel0_row0\" class=\"row_heading level0 row0\" >0</th> \n",
       "        <td id=\"T_7ed985fd_4f96_11e8_8cc2_0025904f36cbrow0_col0\" class=\"data row0 col0\" >0.888889</td> \n",
       "        <td id=\"T_7ed985fd_4f96_11e8_8cc2_0025904f36cbrow0_col1\" class=\"data row0 col1\" >0.942966</td> \n",
       "        <td id=\"T_7ed985fd_4f96_11e8_8cc2_0025904f36cbrow0_col2\" class=\"data row0 col2\" >0.915129</td> \n",
       "        <td id=\"T_7ed985fd_4f96_11e8_8cc2_0025904f36cbrow0_col3\" class=\"data row0 col3\" >263</td> \n",
       "    </tr>    <tr> \n",
       "        <th id=\"T_7ed985fd_4f96_11e8_8cc2_0025904f36cblevel0_row1\" class=\"row_heading level0 row1\" >1</th> \n",
       "        <td id=\"T_7ed985fd_4f96_11e8_8cc2_0025904f36cbrow1_col0\" class=\"data row1 col0\" >0.917582</td> \n",
       "        <td id=\"T_7ed985fd_4f96_11e8_8cc2_0025904f36cbrow1_col1\" class=\"data row1 col1\" >0.843434</td> \n",
       "        <td id=\"T_7ed985fd_4f96_11e8_8cc2_0025904f36cbrow1_col2\" class=\"data row1 col2\" >0.878947</td> \n",
       "        <td id=\"T_7ed985fd_4f96_11e8_8cc2_0025904f36cbrow1_col3\" class=\"data row1 col3\" >198</td> \n",
       "    </tr></tbody> \n",
       "</table> "
      ],
      "text/plain": [
       "<pandas.io.formats.style.Styler at 0x7f4288765b70>"
      ]
     },
     "metadata": {},
     "output_type": "display_data"
    },
    {
     "name": "stdout",
     "output_type": "stream",
     "text": [
      "Neighbours amount: 100   Score: 0.8850325379609545\n"
     ]
    },
    {
     "data": {
      "text/html": [
       "<style  type=\"text/css\" >\n",
       "    #T_7ed985fe_4f96_11e8_8cc2_0025904f36cb tr:hover {\n",
       "          background-color: #ffff99;\n",
       "    }    #T_7ed985fe_4f96_11e8_8cc2_0025904f36cb th {\n",
       "          font-size: 150%;\n",
       "          text-align: center;\n",
       "    }    #T_7ed985fe_4f96_11e8_8cc2_0025904f36cb caption {\n",
       "          caption-side: bottom;\n",
       "    }</style>  \n",
       "<table id=\"T_7ed985fe_4f96_11e8_8cc2_0025904f36cb\" > \n",
       "<thead>    <tr> \n",
       "        <th class=\"blank level0\" ></th> \n",
       "        <th class=\"col_heading level0 col0\" >Precision</th> \n",
       "        <th class=\"col_heading level0 col1\" >Recall</th> \n",
       "        <th class=\"col_heading level0 col2\" >F1 score</th> \n",
       "        <th class=\"col_heading level0 col3\" >Support</th> \n",
       "    </tr></thead> \n",
       "<tbody>    <tr> \n",
       "        <th id=\"T_7ed985fe_4f96_11e8_8cc2_0025904f36cblevel0_row0\" class=\"row_heading level0 row0\" >0</th> \n",
       "        <td id=\"T_7ed985fe_4f96_11e8_8cc2_0025904f36cbrow0_col0\" class=\"data row0 col0\" >0.869718</td> \n",
       "        <td id=\"T_7ed985fe_4f96_11e8_8cc2_0025904f36cbrow0_col1\" class=\"data row0 col1\" >0.939163</td> \n",
       "        <td id=\"T_7ed985fe_4f96_11e8_8cc2_0025904f36cbrow0_col2\" class=\"data row0 col2\" >0.903108</td> \n",
       "        <td id=\"T_7ed985fe_4f96_11e8_8cc2_0025904f36cbrow0_col3\" class=\"data row0 col3\" >263</td> \n",
       "    </tr>    <tr> \n",
       "        <th id=\"T_7ed985fe_4f96_11e8_8cc2_0025904f36cblevel0_row1\" class=\"row_heading level0 row1\" >1</th> \n",
       "        <td id=\"T_7ed985fe_4f96_11e8_8cc2_0025904f36cbrow1_col0\" class=\"data row1 col0\" >0.909605</td> \n",
       "        <td id=\"T_7ed985fe_4f96_11e8_8cc2_0025904f36cbrow1_col1\" class=\"data row1 col1\" >0.813131</td> \n",
       "        <td id=\"T_7ed985fe_4f96_11e8_8cc2_0025904f36cbrow1_col2\" class=\"data row1 col2\" >0.858667</td> \n",
       "        <td id=\"T_7ed985fe_4f96_11e8_8cc2_0025904f36cbrow1_col3\" class=\"data row1 col3\" >198</td> \n",
       "    </tr></tbody> \n",
       "</table> "
      ],
      "text/plain": [
       "<pandas.io.formats.style.Styler at 0x7f4288765da0>"
      ]
     },
     "metadata": {},
     "output_type": "display_data"
    },
    {
     "name": "stdout",
     "output_type": "stream",
     "text": [
      "Neighbours amount: 1000   Score: 0.8221258134490239\n"
     ]
    },
    {
     "data": {
      "text/html": [
       "<style  type=\"text/css\" >\n",
       "    #T_80028474_4f96_11e8_8cc2_0025904f36cb tr:hover {\n",
       "          background-color: #ffff99;\n",
       "    }    #T_80028474_4f96_11e8_8cc2_0025904f36cb th {\n",
       "          font-size: 150%;\n",
       "          text-align: center;\n",
       "    }    #T_80028474_4f96_11e8_8cc2_0025904f36cb caption {\n",
       "          caption-side: bottom;\n",
       "    }</style>  \n",
       "<table id=\"T_80028474_4f96_11e8_8cc2_0025904f36cb\" > \n",
       "<thead>    <tr> \n",
       "        <th class=\"blank level0\" ></th> \n",
       "        <th class=\"col_heading level0 col0\" >Precision</th> \n",
       "        <th class=\"col_heading level0 col1\" >Recall</th> \n",
       "        <th class=\"col_heading level0 col2\" >F1 score</th> \n",
       "        <th class=\"col_heading level0 col3\" >Support</th> \n",
       "    </tr></thead> \n",
       "<tbody>    <tr> \n",
       "        <th id=\"T_80028474_4f96_11e8_8cc2_0025904f36cblevel0_row0\" class=\"row_heading level0 row0\" >0</th> \n",
       "        <td id=\"T_80028474_4f96_11e8_8cc2_0025904f36cbrow0_col0\" class=\"data row0 col0\" >0.776758</td> \n",
       "        <td id=\"T_80028474_4f96_11e8_8cc2_0025904f36cbrow0_col1\" class=\"data row0 col1\" >0.965779</td> \n",
       "        <td id=\"T_80028474_4f96_11e8_8cc2_0025904f36cbrow0_col2\" class=\"data row0 col2\" >0.861017</td> \n",
       "        <td id=\"T_80028474_4f96_11e8_8cc2_0025904f36cbrow0_col3\" class=\"data row0 col3\" >263</td> \n",
       "    </tr>    <tr> \n",
       "        <th id=\"T_80028474_4f96_11e8_8cc2_0025904f36cblevel0_row1\" class=\"row_heading level0 row1\" >1</th> \n",
       "        <td id=\"T_80028474_4f96_11e8_8cc2_0025904f36cbrow1_col0\" class=\"data row1 col0\" >0.932836</td> \n",
       "        <td id=\"T_80028474_4f96_11e8_8cc2_0025904f36cbrow1_col1\" class=\"data row1 col1\" >0.631313</td> \n",
       "        <td id=\"T_80028474_4f96_11e8_8cc2_0025904f36cbrow1_col2\" class=\"data row1 col2\" >0.753012</td> \n",
       "        <td id=\"T_80028474_4f96_11e8_8cc2_0025904f36cbrow1_col3\" class=\"data row1 col3\" >198</td> \n",
       "    </tr></tbody> \n",
       "</table> "
      ],
      "text/plain": [
       "<pandas.io.formats.style.Styler at 0x7f4288765a58>"
      ]
     },
     "metadata": {},
     "output_type": "display_data"
    }
   ],
   "source": [
    "for i in [5, 10, 100, 1000]:\n",
    "    knn_model = KNeighborsClassifier(n_neighbors=i)\n",
    "    knn_model.fit(x_train, y_train)\n",
    "    knn_pred = knn_model.predict(x_test)\n",
    "    knn_score = knn_model.score(x_test, y_test) # score = correct predictions / total number of data points\n",
    "    print('Neighbours amount: {}   Score: {}'.format(i, knn_score))\n",
    "    knn_prfs_score = metrics.precision_recall_fscore_support(y_test, knn_pred)\n",
    "    knn_df = pd.DataFrame(data={'Precision': knn_prfs_score[0], 'Recall': knn_prfs_score[1], \n",
    "                                'F1 score': knn_prfs_score[2], 'Support': knn_prfs_score[3]},\n",
    "                          columns=['Precision', 'Recall', 'F1 score', 'Support'], index=[0, 1])\n",
    "\n",
    "    html = (knn_df.style.set_table_styles(styles))\n",
    "    display(html)"
   ]
  },
  {
   "cell_type": "markdown",
   "metadata": {},
   "source": [
    "#### Part 3"
   ]
  },
  {
   "cell_type": "markdown",
   "metadata": {},
   "source": [
    "Load data in .arff to pd.DataFrame (3.1)"
   ]
  },
  {
   "cell_type": "code",
   "execution_count": 14,
   "metadata": {},
   "outputs": [],
   "source": [
    "data, _ = arff.loadarff('data/raw/credit.arff.txt')"
   ]
  },
  {
   "cell_type": "code",
   "execution_count": 15,
   "metadata": {},
   "outputs": [],
   "source": [
    "credit = pd.DataFrame(data)"
   ]
  },
  {
   "cell_type": "markdown",
   "metadata": {},
   "source": [
    "Plot Age and Duration (3.2)"
   ]
  },
  {
   "cell_type": "code",
   "execution_count": 16,
   "metadata": {},
   "outputs": [],
   "source": [
    "age_duration_plt = [go.Scatter(x=credit.index, y=credit.Age, name='Age'), \n",
    "                    go.Scatter(x=credit.index, y=credit.Duration, name='Duration')]"
   ]
  },
  {
   "cell_type": "code",
   "execution_count": 17,
   "metadata": {},
   "outputs": [
    {
     "data": {
      "text/html": [
       "<iframe id=\"igraph\" scrolling=\"no\" style=\"border:none;\" seamless=\"seamless\" src=\"https://plot.ly/~mynameistony/12.embed\" height=\"525px\" width=\"100%\"></iframe>"
      ],
      "text/plain": [
       "<plotly.tools.PlotlyDisplay object>"
      ]
     },
     "execution_count": 17,
     "metadata": {},
     "output_type": "execute_result"
    }
   ],
   "source": [
    "py.iplot(age_duration_plt)"
   ]
  },
  {
   "cell_type": "markdown",
   "metadata": {},
   "source": [
    "Drop observations where Age < 0 (3.3)"
   ]
  },
  {
   "cell_type": "code",
   "execution_count": 18,
   "metadata": {},
   "outputs": [],
   "source": [
    "credit = credit.loc[credit.Age > 0]"
   ]
  },
  {
   "cell_type": "markdown",
   "metadata": {},
   "source": [
    "Split on train and test sets (3.4)"
   ]
  },
  {
   "cell_type": "code",
   "execution_count": 19,
   "metadata": {},
   "outputs": [],
   "source": [
    "train, test = train_test_split(credit, test_size=0.2)"
   ]
  },
  {
   "cell_type": "code",
   "execution_count": null,
   "metadata": {},
   "outputs": [],
   "source": []
  }
 ],
 "metadata": {
  "kernelspec": {
   "display_name": "Python 3",
   "language": "python",
   "name": "python3"
  },
  "language_info": {
   "codemirror_mode": {
    "name": "ipython",
    "version": 3
   },
   "file_extension": ".py",
   "mimetype": "text/x-python",
   "name": "python",
   "nbconvert_exporter": "python",
   "pygments_lexer": "ipython3",
   "version": "3.5.2"
  }
 },
 "nbformat": 4,
 "nbformat_minor": 2
}
